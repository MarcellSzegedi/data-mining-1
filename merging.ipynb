{
 "cells": [
  {
   "cell_type": "code",
   "execution_count": 1,
   "id": "6387a260",
   "metadata": {},
   "outputs": [],
   "source": [
    "import pandas as pd"
   ]
  },
  {
   "cell_type": "code",
   "execution_count": null,
   "id": "aeace997",
   "metadata": {},
   "outputs": [],
   "source": [
    "df1 = pd.read_csv(\"final_data_sebas.csv\")\n",
    "df2 = pd.read_csv(\"cleaned_data_msz_final.csv\", sep=\";\")"
   ]
  },
  {
   "cell_type": "code",
   "execution_count": 11,
   "id": "d30fbc7e",
   "metadata": {},
   "outputs": [
    {
     "data": {
      "text/plain": [
       "Index(['programme', 'experience_ml', 'experience_ir', 'experience_st',\n",
       "       'experience_db', 'gender', 'chatgpt_usage', 'birthday',\n",
       "       'count_students', 'stress_level', 'hours_spend_w_sport', 'bedtime',\n",
       "       'pleasant_thing_1'],\n",
       "      dtype='object')"
      ]
     },
     "execution_count": 11,
     "metadata": {},
     "output_type": "execute_result"
    }
   ],
   "source": [
    "df_final = df2.copy()\n",
    "df_final.drop(columns=[\"pleasant_thing_2\"],inplace=True)\n",
    "df_final.columns"
   ]
  },
  {
   "cell_type": "code",
   "execution_count": 12,
   "id": "540b0a36",
   "metadata": {},
   "outputs": [],
   "source": [
    "# get all the other features which have been imputed with distribution\n",
    "df_final[\"birthday\"] = df1[\"When is your birthday (date)?\"]\n",
    "df_final[\"count_students\"] = df1[\"How many students do you estimate there are in the room?\"]\n",
    "df_final[\"stress_level\"] = df1[\"What is your stress level (0-100)?\"]\n",
    "df_final[\"sport\"] = df1[\"How many hours per week do you do sports (in whole hours)? \"]\n",
    "df_final[\"bedtime\"] = df1[\"Time you went to bed Yesterday\"]\n",
    "df_final[\"time awake since 09:00\"] = df1[\"Time awake since 09:00\"]"
   ]
  },
  {
   "cell_type": "code",
   "execution_count": 13,
   "id": "a7faa9c6",
   "metadata": {},
   "outputs": [
    {
     "data": {
      "text/plain": [
       "Index(['programme', 'experience_ml', 'experience_ir', 'experience_st',\n",
       "       'experience_db', 'gender', 'chatgpt_usage', 'birthday',\n",
       "       'count_students', 'stress_level', 'hours_spend_w_sport', 'bedtime',\n",
       "       'pleasant_thing_1', 'sport', 'time awake since 09:00'],\n",
       "      dtype='object')"
      ]
     },
     "execution_count": 13,
     "metadata": {},
     "output_type": "execute_result"
    }
   ],
   "source": [
    "df_final.columns"
   ]
  },
  {
   "cell_type": "code",
   "execution_count": 14,
   "id": "a2144007",
   "metadata": {},
   "outputs": [],
   "source": [
    "df_final.to_csv(\"final_data.csv\", index = False)"
   ]
  }
 ],
 "metadata": {
  "kernelspec": {
   "display_name": "DSML",
   "language": "python",
   "name": "python3"
  },
  "language_info": {
   "codemirror_mode": {
    "name": "ipython",
    "version": 3
   },
   "file_extension": ".py",
   "mimetype": "text/x-python",
   "name": "python",
   "nbconvert_exporter": "python",
   "pygments_lexer": "ipython3",
   "version": "3.12.3"
  }
 },
 "nbformat": 4,
 "nbformat_minor": 5
}
