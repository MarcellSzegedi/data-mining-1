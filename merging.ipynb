{
 "cells": [
  {
   "cell_type": "code",
   "execution_count": 32,
   "id": "6387a260",
   "metadata": {},
   "outputs": [],
   "source": [
    "import pandas as pd"
   ]
  },
  {
   "cell_type": "code",
   "execution_count": 33,
   "id": "aeace997",
   "metadata": {},
   "outputs": [],
   "source": [
    "df1 = pd.read_csv(\"final_data_sebas.csv\")\n",
    "df2 = pd.read_csv(\"cleaned_data_msz_final.csv\", sep=\";\")"
   ]
  },
  {
   "cell_type": "code",
   "execution_count": 34,
   "id": "d30fbc7e",
   "metadata": {},
   "outputs": [
    {
     "data": {
      "text/plain": [
       "Index(['programme', 'experience_ml', 'experience_ir', 'experience_st',\n",
       "       'experience_db', 'gender', 'chatgpt_usage', 'birthday',\n",
       "       'count_students', 'stress_level', 'bedtime', 'pleasant_thing_1'],\n",
       "      dtype='object')"
      ]
     },
     "execution_count": 34,
     "metadata": {},
     "output_type": "execute_result"
    }
   ],
   "source": [
    "df_final = df2.copy()\n",
    "df_final.drop(columns=[\"pleasant_thing_2\", \"hours_spend_w_sport\"],inplace=True)\n",
    "df_final.columns"
   ]
  },
  {
   "cell_type": "code",
   "execution_count": 35,
   "id": "540b0a36",
   "metadata": {},
   "outputs": [],
   "source": [
    "# get all the other features which have been imputed with distribution\n",
    "df_final[\"birthday\"] = df1[\"When is your birthday (date)?\"]\n",
    "df_final[\"count_students\"] = df1[\"How many students do you estimate there are in the room?\"]\n",
    "df_final[\"stress_level\"] = df1[\"What is your stress level (0-100)?\"]\n",
    "df_final[\"hours_sport\"] = df1[\"How many hours per week do you do sports (in whole hours)? \"]\n",
    "df_final[\"bedtime\"] = df1[\"Time you went to bed Yesterday\"]\n",
    "df_final[\"min awake since 09:00\"] = df1[\"Time awake since 09:00\"]"
   ]
  },
  {
   "cell_type": "code",
   "execution_count": 36,
   "id": "478a43bc",
   "metadata": {},
   "outputs": [
    {
     "name": "stdout",
     "output_type": "stream",
     "text": [
      "experience_st\n"
     ]
    }
   ],
   "source": [
    "# check that no column has NaN's\n",
    "for i in range(len(df_final.columns)):\n",
    "    if df_final.iloc[:, i].isna().any():\n",
    "        print(df_final.columns[i])"
   ]
  },
  {
   "cell_type": "code",
   "execution_count": 37,
   "id": "336cc168",
   "metadata": {},
   "outputs": [],
   "source": [
    "import random\n",
    "\n",
    "# will fix the missing values from \"experience_st\" using a bernulli r.v.\n",
    "# def bernulli(p):\n",
    "#     values  = [i for i in range(100)]\n",
    "#     choice = random.choice(values)\n",
    "#     if choice <= (p*100)-1:\n",
    "#         return 1\n",
    "#     else:\n",
    "#         return 0\n",
    "\n",
    "def bernulli(p):\n",
    "    return 1 if  random.random() < p else 0\n",
    "\n",
    "p = sum(df_final[\"experience_st\"] == 'mu') / len(df_final)\n",
    "\n",
    "df_final.fillna(bernulli(p), inplace=True)"
   ]
  },
  {
   "cell_type": "code",
   "execution_count": 38,
   "id": "a7faa9c6",
   "metadata": {},
   "outputs": [
    {
     "data": {
      "text/plain": [
       "Index(['programme', 'experience_ml', 'experience_ir', 'experience_st',\n",
       "       'experience_db', 'gender', 'chatgpt_usage', 'birthday',\n",
       "       'count_students', 'stress_level', 'bedtime', 'pleasant_thing_1',\n",
       "       'hours_sport', 'min awake since 09:00'],\n",
       "      dtype='object')"
      ]
     },
     "execution_count": 38,
     "metadata": {},
     "output_type": "execute_result"
    }
   ],
   "source": [
    "df_final.columns"
   ]
  },
  {
   "cell_type": "code",
   "execution_count": 39,
   "id": "a2144007",
   "metadata": {},
   "outputs": [],
   "source": [
    "df_final.to_csv(\"final_data.csv\", index = False)"
   ]
  }
 ],
 "metadata": {
  "kernelspec": {
   "display_name": "DSML",
   "language": "python",
   "name": "python3"
  },
  "language_info": {
   "codemirror_mode": {
    "name": "ipython",
    "version": 3
   },
   "file_extension": ".py",
   "mimetype": "text/x-python",
   "name": "python",
   "nbconvert_exporter": "python",
   "pygments_lexer": "ipython3",
   "version": "3.12.3"
  }
 },
 "nbformat": 4,
 "nbformat_minor": 5
}
