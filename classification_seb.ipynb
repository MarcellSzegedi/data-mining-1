{
 "cells": [
  {
   "cell_type": "code",
   "execution_count": 71,
   "id": "bb45a918",
   "metadata": {},
   "outputs": [],
   "source": [
    "import pandas as pd\n",
    "import numpy as np \n",
    "import random "
   ]
  },
  {
   "cell_type": "code",
   "execution_count": 72,
   "id": "7fb950da",
   "metadata": {},
   "outputs": [
    {
     "data": {
      "text/plain": [
       "programme                 object\n",
       "experience_ml             object\n",
       "experience_ir              int64\n",
       "experience_st             object\n",
       "experience_db             object\n",
       "gender                    object\n",
       "chatgpt_usage             object\n",
       "birthday                   int64\n",
       "count_students             int64\n",
       "stress_level             float64\n",
       "bedtime                   object\n",
       "pleasant_thing_1          object\n",
       "hours_sport              float64\n",
       "min awake since 09:00      int64\n",
       "dtype: object"
      ]
     },
     "execution_count": 72,
     "metadata": {},
     "output_type": "execute_result"
    }
   ],
   "source": [
    "# get data\n",
    "data = pd.read_csv(\"final_data.csv\")\n",
    "# check data types \n",
    "data.dtypes"
   ]
  },
  {
   "cell_type": "markdown",
   "id": "f2bf5a6b",
   "metadata": {},
   "source": [
    "We will do some type casting as well as removing of variables we might not use (bedtime)"
   ]
  },
  {
   "cell_type": "code",
   "execution_count": 73,
   "id": "804d5863",
   "metadata": {},
   "outputs": [
    {
     "data": {
      "text/html": [
       "<div>\n",
       "<style scoped>\n",
       "    .dataframe tbody tr th:only-of-type {\n",
       "        vertical-align: middle;\n",
       "    }\n",
       "\n",
       "    .dataframe tbody tr th {\n",
       "        vertical-align: top;\n",
       "    }\n",
       "\n",
       "    .dataframe thead th {\n",
       "        text-align: right;\n",
       "    }\n",
       "</style>\n",
       "<table border=\"1\" class=\"dataframe\">\n",
       "  <thead>\n",
       "    <tr style=\"text-align: right;\">\n",
       "      <th></th>\n",
       "      <th>programme</th>\n",
       "      <th>experience_ml</th>\n",
       "      <th>experience_ir</th>\n",
       "      <th>experience_st</th>\n",
       "      <th>experience_db</th>\n",
       "      <th>gender</th>\n",
       "      <th>chatgpt_usage</th>\n",
       "      <th>birthday</th>\n",
       "      <th>count_students</th>\n",
       "      <th>stress_level</th>\n",
       "      <th>pleasant_thing_1</th>\n",
       "      <th>hours_sport</th>\n",
       "      <th>min awake since 09:00</th>\n",
       "    </tr>\n",
       "  </thead>\n",
       "  <tbody>\n",
       "    <tr>\n",
       "      <th>0</th>\n",
       "      <td>AI</td>\n",
       "      <td>yes</td>\n",
       "      <td>0</td>\n",
       "      <td>mu</td>\n",
       "      <td>ja</td>\n",
       "      <td>male</td>\n",
       "      <td>yes</td>\n",
       "      <td>1990</td>\n",
       "      <td>400</td>\n",
       "      <td>78.0</td>\n",
       "      <td>food</td>\n",
       "      <td>0.0</td>\n",
       "      <td>900</td>\n",
       "    </tr>\n",
       "    <tr>\n",
       "      <th>1</th>\n",
       "      <td>AI</td>\n",
       "      <td>yes</td>\n",
       "      <td>1</td>\n",
       "      <td>sigma</td>\n",
       "      <td>ja</td>\n",
       "      <td>female</td>\n",
       "      <td>yes</td>\n",
       "      <td>2002</td>\n",
       "      <td>321</td>\n",
       "      <td>100.0</td>\n",
       "      <td>nature</td>\n",
       "      <td>2.0</td>\n",
       "      <td>930</td>\n",
       "    </tr>\n",
       "    <tr>\n",
       "      <th>2</th>\n",
       "      <td>Econometrics</td>\n",
       "      <td>yes</td>\n",
       "      <td>1</td>\n",
       "      <td>mu</td>\n",
       "      <td>ja</td>\n",
       "      <td>male</td>\n",
       "      <td>no willing to say</td>\n",
       "      <td>2002</td>\n",
       "      <td>200</td>\n",
       "      <td>100.0</td>\n",
       "      <td>other</td>\n",
       "      <td>0.0</td>\n",
       "      <td>930</td>\n",
       "    </tr>\n",
       "    <tr>\n",
       "      <th>3</th>\n",
       "      <td>Econometrics</td>\n",
       "      <td>yes</td>\n",
       "      <td>0</td>\n",
       "      <td>mu</td>\n",
       "      <td>nee</td>\n",
       "      <td>male</td>\n",
       "      <td>yes</td>\n",
       "      <td>2003</td>\n",
       "      <td>350</td>\n",
       "      <td>60.0</td>\n",
       "      <td>nature</td>\n",
       "      <td>2.0</td>\n",
       "      <td>840</td>\n",
       "    </tr>\n",
       "    <tr>\n",
       "      <th>4</th>\n",
       "      <td>Bioinformatics</td>\n",
       "      <td>yes</td>\n",
       "      <td>1</td>\n",
       "      <td>mu</td>\n",
       "      <td>ja</td>\n",
       "      <td>male</td>\n",
       "      <td>yes</td>\n",
       "      <td>2000</td>\n",
       "      <td>500</td>\n",
       "      <td>50.0</td>\n",
       "      <td>other</td>\n",
       "      <td>10.0</td>\n",
       "      <td>180</td>\n",
       "    </tr>\n",
       "    <tr>\n",
       "      <th>...</th>\n",
       "      <td>...</td>\n",
       "      <td>...</td>\n",
       "      <td>...</td>\n",
       "      <td>...</td>\n",
       "      <td>...</td>\n",
       "      <td>...</td>\n",
       "      <td>...</td>\n",
       "      <td>...</td>\n",
       "      <td>...</td>\n",
       "      <td>...</td>\n",
       "      <td>...</td>\n",
       "      <td>...</td>\n",
       "      <td>...</td>\n",
       "    </tr>\n",
       "    <tr>\n",
       "      <th>238</th>\n",
       "      <td>AI</td>\n",
       "      <td>no</td>\n",
       "      <td>1</td>\n",
       "      <td>mu</td>\n",
       "      <td>ja</td>\n",
       "      <td>male</td>\n",
       "      <td>yes</td>\n",
       "      <td>2003</td>\n",
       "      <td>550</td>\n",
       "      <td>40.0</td>\n",
       "      <td>activity</td>\n",
       "      <td>0.0</td>\n",
       "      <td>1140</td>\n",
       "    </tr>\n",
       "    <tr>\n",
       "      <th>239</th>\n",
       "      <td>CS</td>\n",
       "      <td>yes</td>\n",
       "      <td>1</td>\n",
       "      <td>mu</td>\n",
       "      <td>ja</td>\n",
       "      <td>male</td>\n",
       "      <td>no willing to say</td>\n",
       "      <td>1990</td>\n",
       "      <td>460</td>\n",
       "      <td>60.0</td>\n",
       "      <td>activity</td>\n",
       "      <td>1.0</td>\n",
       "      <td>990</td>\n",
       "    </tr>\n",
       "    <tr>\n",
       "      <th>240</th>\n",
       "      <td>CS</td>\n",
       "      <td>yes</td>\n",
       "      <td>0</td>\n",
       "      <td>sigma</td>\n",
       "      <td>ja</td>\n",
       "      <td>male</td>\n",
       "      <td>no willing to say</td>\n",
       "      <td>2003</td>\n",
       "      <td>300</td>\n",
       "      <td>35.0</td>\n",
       "      <td>nature</td>\n",
       "      <td>10.0</td>\n",
       "      <td>1020</td>\n",
       "    </tr>\n",
       "    <tr>\n",
       "      <th>241</th>\n",
       "      <td>CS</td>\n",
       "      <td>yes</td>\n",
       "      <td>1</td>\n",
       "      <td>mu</td>\n",
       "      <td>ja</td>\n",
       "      <td>female</td>\n",
       "      <td>yes</td>\n",
       "      <td>2002</td>\n",
       "      <td>450</td>\n",
       "      <td>75.0</td>\n",
       "      <td>activity</td>\n",
       "      <td>20.0</td>\n",
       "      <td>870</td>\n",
       "    </tr>\n",
       "    <tr>\n",
       "      <th>242</th>\n",
       "      <td>CLS</td>\n",
       "      <td>no</td>\n",
       "      <td>0</td>\n",
       "      <td>mu</td>\n",
       "      <td>ja</td>\n",
       "      <td>male</td>\n",
       "      <td>no</td>\n",
       "      <td>2001</td>\n",
       "      <td>200</td>\n",
       "      <td>45.0</td>\n",
       "      <td>lazy</td>\n",
       "      <td>1.0</td>\n",
       "      <td>1020</td>\n",
       "    </tr>\n",
       "  </tbody>\n",
       "</table>\n",
       "<p>243 rows × 13 columns</p>\n",
       "</div>"
      ],
      "text/plain": [
       "          programme experience_ml  experience_ir experience_st experience_db  \\\n",
       "0                AI           yes              0            mu            ja   \n",
       "1                AI           yes              1         sigma            ja   \n",
       "2      Econometrics           yes              1            mu            ja   \n",
       "3      Econometrics           yes              0            mu           nee   \n",
       "4    Bioinformatics           yes              1            mu            ja   \n",
       "..              ...           ...            ...           ...           ...   \n",
       "238              AI            no              1            mu            ja   \n",
       "239              CS           yes              1            mu            ja   \n",
       "240              CS           yes              0         sigma            ja   \n",
       "241              CS           yes              1            mu            ja   \n",
       "242             CLS            no              0            mu            ja   \n",
       "\n",
       "     gender      chatgpt_usage  birthday  count_students  stress_level  \\\n",
       "0      male                yes      1990             400          78.0   \n",
       "1    female                yes      2002             321         100.0   \n",
       "2      male  no willing to say      2002             200         100.0   \n",
       "3      male                yes      2003             350          60.0   \n",
       "4      male                yes      2000             500          50.0   \n",
       "..      ...                ...       ...             ...           ...   \n",
       "238    male                yes      2003             550          40.0   \n",
       "239    male  no willing to say      1990             460          60.0   \n",
       "240    male  no willing to say      2003             300          35.0   \n",
       "241  female                yes      2002             450          75.0   \n",
       "242    male                 no      2001             200          45.0   \n",
       "\n",
       "    pleasant_thing_1  hours_sport  min awake since 09:00  \n",
       "0               food          0.0                    900  \n",
       "1             nature          2.0                    930  \n",
       "2              other          0.0                    930  \n",
       "3             nature          2.0                    840  \n",
       "4              other         10.0                    180  \n",
       "..               ...          ...                    ...  \n",
       "238         activity          0.0                   1140  \n",
       "239         activity          1.0                    990  \n",
       "240           nature         10.0                   1020  \n",
       "241         activity         20.0                    870  \n",
       "242             lazy          1.0                   1020  \n",
       "\n",
       "[243 rows x 13 columns]"
      ]
     },
     "execution_count": 73,
     "metadata": {},
     "output_type": "execute_result"
    }
   ],
   "source": [
    "data.drop(columns=[\"bedtime\"], inplace=True)\n",
    "data"
   ]
  },
  {
   "cell_type": "code",
   "execution_count": 74,
   "id": "cb89338d",
   "metadata": {},
   "outputs": [
    {
     "name": "stdout",
     "output_type": "stream",
     "text": [
      "['ja' 'nee']\n",
      "['yes' 'no']\n",
      "[0 1]\n",
      "['mu' 'sigma' '1']\n"
     ]
    }
   ],
   "source": [
    "# check for labels in binary variables\n",
    "for i in [\"db\", \"ml\", \"ir\", \"st\"]:\n",
    "    print(data[f\"experience_{i}\"].unique())"
   ]
  },
  {
   "cell_type": "code",
   "execution_count": 75,
   "id": "06542e17",
   "metadata": {},
   "outputs": [
    {
     "data": {
      "text/plain": [
       "programme                 object\n",
       "experience_ml              int32\n",
       "experience_ir              int64\n",
       "experience_st              int32\n",
       "experience_db              int32\n",
       "gender                    object\n",
       "chatgpt_usage             object\n",
       "birthday                   int64\n",
       "count_students             int64\n",
       "stress_level             float64\n",
       "pleasant_thing_1          object\n",
       "hours_sport              float64\n",
       "min awake since 09:00      int64\n",
       "dtype: object"
      ]
     },
     "execution_count": 75,
     "metadata": {},
     "output_type": "execute_result"
    }
   ],
   "source": [
    "#converting all dichotomus var to binary\n",
    "data[\"experience_db\"] = (data[\"experience_db\"] == 'ja').astype(int)\n",
    "data[\"experience_ml\"] = (data[\"experience_ml\"] == 'yes').astype(int)\n",
    "data[\"experience_st\"] = (data[\"experience_st\"] == \"mu\").astype(int)\n",
    "\n",
    "data.dtypes"
   ]
  },
  {
   "cell_type": "code",
   "execution_count": 76,
   "id": "68be66c4",
   "metadata": {},
   "outputs": [
    {
     "data": {
      "text/plain": [
       "experience_db\n",
       "1    174\n",
       "0     69\n",
       "Name: count, dtype: int64"
      ]
     },
     "execution_count": 76,
     "metadata": {},
     "output_type": "execute_result"
    }
   ],
   "source": [
    "data[\"experience_db\"].value_counts()"
   ]
  },
  {
   "cell_type": "code",
   "execution_count": 77,
   "id": "59acce6a",
   "metadata": {},
   "outputs": [
    {
     "name": "stdout",
     "output_type": "stream",
     "text": [
      "chatgpt_usage\n",
      "yes                  189\n",
      "no willing to say     40\n",
      "no                    14\n",
      "Name: count, dtype: int64\n"
     ]
    },
    {
     "data": {
      "text/plain": [
       "gender\n",
       "male          141\n",
       "female         93\n",
       "non-binary      9\n",
       "Name: count, dtype: int64"
      ]
     },
     "execution_count": 77,
     "metadata": {},
     "output_type": "execute_result"
    }
   ],
   "source": [
    "print(data[\"chatgpt_usage\"].value_counts())\n",
    "data[\"gender\"].value_counts()"
   ]
  },
  {
   "cell_type": "code",
   "execution_count": 78,
   "id": "bb1a1c53",
   "metadata": {},
   "outputs": [
    {
     "data": {
      "text/plain": [
       "Index(['programme', 'experience_ml', 'experience_ir', 'experience_st',\n",
       "       'experience_db', 'birthday', 'count_students', 'stress_level',\n",
       "       'pleasant_thing_1', 'hours_sport', 'min awake since 09:00', 'female',\n",
       "       'other', 'no_disclosure', 'no_chatgpt'],\n",
       "      dtype='object')"
      ]
     },
     "execution_count": 78,
     "metadata": {},
     "output_type": "execute_result"
    }
   ],
   "source": [
    "# One hot encodding for gender and chatgpt\n",
    "data[\"female\"] = (data[\"gender\"] == \"female\").astype(int)\n",
    "data[\"other\"] = (data[\"gender\"] == \"non-binary\").astype(int)\n",
    "data[\"no_disclosure\"] = (data[\"chatgpt_usage\"] == \"no willing to say\").astype(int)\n",
    "data[\"no_chatgpt\"] = (data[\"chatgpt_usage\"] == \"no\").astype(int)\n",
    "\n",
    "# drop gender and chatGPT columns\n",
    "data.drop(columns=[\"gender\", \"chatgpt_usage\"], inplace=True)\n",
    "\n",
    "data.columns"
   ]
  },
  {
   "cell_type": "markdown",
   "id": "0412086a",
   "metadata": {},
   "source": [
    "## Classification model: multi-class Logistic regression\n"
   ]
  },
  {
   "cell_type": "code",
   "execution_count": 80,
   "id": "1ea16297",
   "metadata": {},
   "outputs": [],
   "source": [
    "# configure data for modeling \n",
    "y = data[\"programme\"]\n",
    "X = data.drop(columns=[\"programme\"])"
   ]
  },
  {
   "cell_type": "code",
   "execution_count": 81,
   "id": "69c0cec2",
   "metadata": {},
   "outputs": [
    {
     "data": {
      "text/plain": [
       "Index(['experience_ml', 'experience_ir', 'experience_st', 'experience_db',\n",
       "       'birthday', 'count_students', 'stress_level', 'pleasant_thing_1',\n",
       "       'hours_sport', 'min awake since 09:00', 'female', 'other',\n",
       "       'no_disclosure', 'no_chatgpt'],\n",
       "      dtype='object')"
      ]
     },
     "execution_count": 81,
     "metadata": {},
     "output_type": "execute_result"
    }
   ],
   "source": [
    "# pre feature selection\n",
    "X.columns"
   ]
  },
  {
   "cell_type": "markdown",
   "id": "097a8f90",
   "metadata": {},
   "source": [
    "Our aim is to predict the the program a person is attending to, intuitively I would say that \"pleasant_thing_1\" is irrelevant for this classification. \n",
    "This might also be the case for \"chatgpt_usage\" and maybe \"birthday\""
   ]
  },
  {
   "cell_type": "code",
   "execution_count": 82,
   "id": "03d2be56",
   "metadata": {},
   "outputs": [],
   "source": [
    "X.drop(columns=[\"pleasant_thing_1\"], inplace=True)"
   ]
  },
  {
   "cell_type": "code",
   "execution_count": 83,
   "id": "6dbc49fa",
   "metadata": {},
   "outputs": [],
   "source": [
    "# dependencies for model building\n",
    "from sklearn.linear_model import LogisticRegression\n",
    "from sklearn.model_selection import train_test_split\n",
    "from sklearn.metrics import classification_report, f1_score\n",
    "from sklearn.feature_selection import f_classif"
   ]
  },
  {
   "cell_type": "code",
   "execution_count": 90,
   "id": "942223d9",
   "metadata": {},
   "outputs": [
    {
     "data": {
      "text/html": [
       "<div>\n",
       "<style scoped>\n",
       "    .dataframe tbody tr th:only-of-type {\n",
       "        vertical-align: middle;\n",
       "    }\n",
       "\n",
       "    .dataframe tbody tr th {\n",
       "        vertical-align: top;\n",
       "    }\n",
       "\n",
       "    .dataframe thead th {\n",
       "        text-align: right;\n",
       "    }\n",
       "</style>\n",
       "<table border=\"1\" class=\"dataframe\">\n",
       "  <thead>\n",
       "    <tr style=\"text-align: right;\">\n",
       "      <th></th>\n",
       "      <th>F</th>\n",
       "      <th>p-value</th>\n",
       "    </tr>\n",
       "  </thead>\n",
       "  <tbody>\n",
       "    <tr>\n",
       "      <th>experience_ml</th>\n",
       "      <td>2.829647</td>\n",
       "      <td>0.01116</td>\n",
       "    </tr>\n",
       "    <tr>\n",
       "      <th>experience_ir</th>\n",
       "      <td>4.926693</td>\n",
       "      <td>0.00009</td>\n",
       "    </tr>\n",
       "    <tr>\n",
       "      <th>experience_st</th>\n",
       "      <td>2.455483</td>\n",
       "      <td>0.02536</td>\n",
       "    </tr>\n",
       "    <tr>\n",
       "      <th>experience_db</th>\n",
       "      <td>7.077444</td>\n",
       "      <td>0.00000</td>\n",
       "    </tr>\n",
       "    <tr>\n",
       "      <th>birthday</th>\n",
       "      <td>3.780425</td>\n",
       "      <td>0.00129</td>\n",
       "    </tr>\n",
       "    <tr>\n",
       "      <th>count_students</th>\n",
       "      <td>0.635634</td>\n",
       "      <td>0.70166</td>\n",
       "    </tr>\n",
       "    <tr>\n",
       "      <th>stress_level</th>\n",
       "      <td>0.337793</td>\n",
       "      <td>0.91644</td>\n",
       "    </tr>\n",
       "    <tr>\n",
       "      <th>hours_sport</th>\n",
       "      <td>1.422075</td>\n",
       "      <td>0.20679</td>\n",
       "    </tr>\n",
       "    <tr>\n",
       "      <th>min awake since 09:00</th>\n",
       "      <td>0.513240</td>\n",
       "      <td>0.79806</td>\n",
       "    </tr>\n",
       "    <tr>\n",
       "      <th>female</th>\n",
       "      <td>1.018022</td>\n",
       "      <td>0.41415</td>\n",
       "    </tr>\n",
       "    <tr>\n",
       "      <th>other</th>\n",
       "      <td>0.590949</td>\n",
       "      <td>0.73744</td>\n",
       "    </tr>\n",
       "    <tr>\n",
       "      <th>no_disclosure</th>\n",
       "      <td>1.031114</td>\n",
       "      <td>0.40567</td>\n",
       "    </tr>\n",
       "    <tr>\n",
       "      <th>no_chatgpt</th>\n",
       "      <td>1.454966</td>\n",
       "      <td>0.19458</td>\n",
       "    </tr>\n",
       "  </tbody>\n",
       "</table>\n",
       "</div>"
      ],
      "text/plain": [
       "                              F  p-value\n",
       "experience_ml          2.829647  0.01116\n",
       "experience_ir          4.926693  0.00009\n",
       "experience_st          2.455483  0.02536\n",
       "experience_db          7.077444  0.00000\n",
       "birthday               3.780425  0.00129\n",
       "count_students         0.635634  0.70166\n",
       "stress_level           0.337793  0.91644\n",
       "hours_sport            1.422075  0.20679\n",
       "min awake since 09:00  0.513240  0.79806\n",
       "female                 1.018022  0.41415\n",
       "other                  0.590949  0.73744\n",
       "no_disclosure          1.031114  0.40567\n",
       "no_chatgpt             1.454966  0.19458"
      ]
     },
     "execution_count": 90,
     "metadata": {},
     "output_type": "execute_result"
    }
   ],
   "source": [
    "# We use use ANOVA for feature selection\n",
    "F, p = f_classif(X, y)\n",
    "p = np.round(p, decimals=5)\n",
    "pd.DataFrame({\"F\": F, \"p-value\" : p}, index=[f\"{X.columns[i]}\" for i in range(X.shape[1])])"
   ]
  },
  {
   "cell_type": "code",
   "execution_count": null,
   "id": "81972617",
   "metadata": {},
   "outputs": [],
   "source": [
    "# setting up train-test split \n",
    "X_train, X_test, y_train, y_test = train_test_split(X, y, test_size=0.2, random_state=44)"
   ]
  },
  {
   "cell_type": "code",
   "execution_count": null,
   "id": "cbfab4ce",
   "metadata": {},
   "outputs": [],
   "source": [
    "# model building\n",
    "model = LogisticRegression(multi_class=\"multinomial\")\n",
    "model.fit(X_train, y_train)\n",
    "\n",
    "# evaluate model\n",
    "y_pred = model.predict(X_test)\n",
    "print(classification_report(y_test, y_pred))\n",
    "\n",
    "# compute f1 test\n",
    "f1 = f1_score(y_test, y_pred, average=)"
   ]
  }
 ],
 "metadata": {
  "kernelspec": {
   "display_name": "DSML",
   "language": "python",
   "name": "python3"
  },
  "language_info": {
   "codemirror_mode": {
    "name": "ipython",
    "version": 3
   },
   "file_extension": ".py",
   "mimetype": "text/x-python",
   "name": "python",
   "nbconvert_exporter": "python",
   "pygments_lexer": "ipython3",
   "version": "3.12.3"
  }
 },
 "nbformat": 4,
 "nbformat_minor": 5
}
