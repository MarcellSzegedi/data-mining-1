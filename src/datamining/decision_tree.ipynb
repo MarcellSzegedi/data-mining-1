{
 "cells": [
  {
   "cell_type": "markdown",
   "id": "1da98014",
   "metadata": {},
   "source": [
    "**Imports**"
   ]
  },
  {
   "cell_type": "code",
   "execution_count": 508,
   "id": "4e22f590",
   "metadata": {},
   "outputs": [],
   "source": [
    "import pandas as pd\n",
    "import numpy as np\n",
    "import matplotlib.pyplot as plt\n",
    "from sklearn.model_selection import train_test_split\n",
    "from sklearn.model_selection import StratifiedShuffleSplit\n",
    "from sklearn.compose import ColumnTransformer\n",
    "from sklearn.preprocessing import OneHotEncoder, StandardScaler\n",
    "from sklearn.tree import DecisionTreeClassifier\n",
    "from sklearn.pipeline import Pipeline\n",
    "from sklearn.metrics import accuracy_score, precision_score, f1_score\n",
    "from sklearn.preprocessing import LabelEncoder\n",
    "from itertools import combinations"
   ]
  },
  {
   "cell_type": "markdown",
   "id": "005ccfca",
   "metadata": {},
   "source": [
    "### Data Preparation"
   ]
  },
  {
   "cell_type": "markdown",
   "id": "465a87f8",
   "metadata": {},
   "source": [
    "Importing the cleaned data and creating the train - validation - test data\n"
   ]
  },
  {
   "cell_type": "code",
   "execution_count": 509,
   "id": "611375d2",
   "metadata": {},
   "outputs": [],
   "source": [
    "continous_var_bin_number = 2"
   ]
  },
  {
   "cell_type": "code",
   "execution_count": 510,
   "id": "acdb81ba",
   "metadata": {},
   "outputs": [
    {
     "name": "stdout",
     "output_type": "stream",
     "text": [
      "programme              0\n",
      "experience_ml          0\n",
      "experience_ir          0\n",
      "experience_db          0\n",
      "gender                 0\n",
      "chatgpt_usage          0\n",
      "birthday               0\n",
      "count_students         0\n",
      "stress_level           0\n",
      "hours_spend_w_sport    0\n",
      "bedtime                0\n",
      "dtype: int64\n",
      "Index(['programme', 'experience_ml', 'experience_ir', 'experience_db',\n",
      "       'gender', 'chatgpt_usage', 'birthday', 'count_students', 'stress_level',\n",
      "       'hours_spend_w_sport', 'bedtime'],\n",
      "      dtype='object')\n"
     ]
    }
   ],
   "source": [
    "cleaned_data = pd.read_csv(\"/Users/marcellszegedi/Documents/Data_Mining/cleaned_data_msz_final.csv\", sep=\";\", decimal=\",\")\n",
    "cleaned_data.drop([\"experience_st\", \"pleasant_thing_1\", \"pleasant_thing_2\"], axis=\"columns\", inplace=True)\n",
    "print(cleaned_data.isna().sum())\n",
    "print(cleaned_data.columns)"
   ]
  },
  {
   "cell_type": "code",
   "execution_count": 511,
   "id": "ec18e1af",
   "metadata": {},
   "outputs": [
    {
     "name": "stdout",
     "output_type": "stream",
     "text": [
      "programme               object\n",
      "experience_ml           object\n",
      "experience_ir           object\n",
      "experience_db           object\n",
      "gender                  object\n",
      "chatgpt_usage           object\n",
      "birthday                 int16\n",
      "count_students           int16\n",
      "stress_level           float64\n",
      "hours_spend_w_sport    float64\n",
      "bedtime                float64\n",
      "dtype: object\n"
     ]
    }
   ],
   "source": [
    "datatypes = {\n",
    "    \"programme\": str,\n",
    "    \"experience_ml\": str,\n",
    "    \"experience_ir\": str,\n",
    "    \"experience_db\": str,\n",
    "    \"gender\": str,\n",
    "    \"chatgpt_usage\": str,\n",
    "    \"birthday\": np.int16,\n",
    "    \"count_students\": np.int16,\n",
    "    \"stress_level\": np.float64,\n",
    "    \"hours_spend_w_sport\": np.float64,\n",
    "    \"bedtime\": np.float64\n",
    "}\n",
    "cleaned_data = cleaned_data.astype(datatypes)\n",
    "print(cleaned_data.dtypes)"
   ]
  },
  {
   "cell_type": "code",
   "execution_count": 512,
   "id": "8c0fd776",
   "metadata": {},
   "outputs": [],
   "source": [
    "test_size = 0.2\n",
    "valid_size = 0.2"
   ]
  },
  {
   "cell_type": "code",
   "execution_count": 513,
   "id": "d1f32483",
   "metadata": {},
   "outputs": [],
   "source": [
    "input_attr_cols = ['experience_ml', 'experience_ir', 'experience_db', 'gender', 'chatgpt_usage', 'birthday', 'count_students', 'stress_level',\n",
    "                           'hours_spend_w_sport', 'bedtime']\n",
    "target_var_col = \"programme\""
   ]
  },
  {
   "cell_type": "code",
   "execution_count": 514,
   "id": "65fa4af6",
   "metadata": {},
   "outputs": [],
   "source": [
    "#strat_cols = ['experience_ml', 'experience_ir', 'experience_db', 'gender', 'chatgpt_usage', 'birthday', 'count_students', 'stress_level', 'hours_spend_w_sport', 'bedtime']\n",
    "strat_cols = ['birthday_bin', 'hours_spend_w_sport_bin', 'bedtime_bin']\n",
    "\n",
    "cleaned_data[\"birthday_bin\"] = pd.qcut(cleaned_data[\"birthday\"], q=continous_var_bin_number, duplicates='drop')\n",
    "cleaned_data[\"count_students_bin\"] = pd.qcut(cleaned_data[\"count_students\"], q=continous_var_bin_number, duplicates=\"drop\")\n",
    "cleaned_data[\"stress_level_bin\"] = pd.qcut(cleaned_data[\"stress_level\"], q=continous_var_bin_number, duplicates=\"drop\")\n",
    "cleaned_data[\"hours_spend_w_sport_bin\"] = pd.qcut(cleaned_data[\"hours_spend_w_sport\"], q=continous_var_bin_number, duplicates=\"drop\")\n",
    "cleaned_data[\"bedtime_bin\"] = pd.qcut(cleaned_data[\"bedtime\"], q=continous_var_bin_number, duplicates=\"drop\")\n",
    "\n",
    "cleaned_data[\"strat_col\"] = cleaned_data[strat_cols].astype(str).agg(\"_\".join, axis=1)"
   ]
  },
  {
   "cell_type": "code",
   "execution_count": 515,
   "id": "74bf822d",
   "metadata": {},
   "outputs": [
    {
     "name": "stdout",
     "output_type": "stream",
     "text": [
      "Index(['programme', 'experience_ml', 'experience_ir', 'experience_db',\n",
      "       'gender', 'chatgpt_usage', 'birthday', 'count_students', 'stress_level',\n",
      "       'hours_spend_w_sport', 'bedtime'],\n",
      "      dtype='object')\n"
     ]
    }
   ],
   "source": [
    "\n",
    "train_val_data, test_data = train_test_split(cleaned_data, test_size=test_size, stratify=cleaned_data[\"strat_col\"], random_state=100)\n",
    "train_data, valid_data = train_test_split(train_val_data, test_size=valid_size, stratify=train_val_data[\"strat_col\"], random_state=101)\n",
    "\n",
    "cleaned_data.drop([\"birthday_bin\", \"count_students_bin\", \"stress_level_bin\", \"hours_spend_w_sport_bin\", \"bedtime_bin\", \"strat_col\"], axis=\"columns\", inplace=True)\n",
    "print(cleaned_data.columns)"
   ]
  },
  {
   "cell_type": "code",
   "execution_count": 516,
   "id": "59898ebc",
   "metadata": {},
   "outputs": [],
   "source": [
    "test_target = test_data[target_var_col]\n",
    "test_attr = test_data[input_attr_cols]\n",
    "\n",
    "valid_target = valid_data[target_var_col]\n",
    "valid_attr = valid_data[input_attr_cols]\n",
    "\n",
    "train_target = train_data[target_var_col]\n",
    "train_attr = train_data[input_attr_cols]"
   ]
  },
  {
   "cell_type": "markdown",
   "id": "17aa4151",
   "metadata": {},
   "source": [
    "### Model Fitting"
   ]
  },
  {
   "cell_type": "code",
   "execution_count": 517,
   "id": "8382ee83",
   "metadata": {},
   "outputs": [],
   "source": [
    "categorical_features = ['experience_ml', 'experience_ir', 'experience_db', 'gender', 'chatgpt_usage']\n",
    "numeric_features = ['birthday', 'count_students', 'stress_level', 'hours_spend_w_sport', 'bedtime']\n",
    "\n",
    "preprocessor = ColumnTransformer(\n",
    "    transformers=[\n",
    "        (\"cat\", OneHotEncoder(), categorical_features),\n",
    "        (\"num\", \"passthrough\", numeric_features)\n",
    "    ]\n",
    ")\n",
    "\n",
    "pipeline = Pipeline([\n",
    "    (\"preprocessing\", preprocessor),\n",
    "    (\"classifier\", DecisionTreeClassifier(random_state=100))\n",
    "])\n",
    "\n",
    "encoder = LabelEncoder()"
   ]
  },
  {
   "cell_type": "markdown",
   "id": "cbc67b99",
   "metadata": {},
   "source": [
    "To reduce the risk coming from the data separation (into train and validation), lets rerun the fitting multiple times."
   ]
  },
  {
   "cell_type": "code",
   "execution_count": 518,
   "id": "33a2e483",
   "metadata": {},
   "outputs": [],
   "source": [
    "def evaluate_combination(df, features, target, n_repeats=25, test_size=0.2):\n",
    "    X = df[features]\n",
    "    y = df[target]\n",
    "\n",
    "    # Separate categorical and numerical columns\n",
    "    cat_cols = X.select_dtypes(include='object').columns.tolist()\n",
    "    num_cols = X.select_dtypes(include=['float', 'int']).columns.tolist()\n",
    "\n",
    "    # Preprocessing\n",
    "    preprocessor = ColumnTransformer([\n",
    "        ('num', StandardScaler(), num_cols),\n",
    "        ('cat', OneHotEncoder(handle_unknown='ignore'), cat_cols)\n",
    "    ])\n",
    "\n",
    "    # Classifier pipeline\n",
    "    tree_clf = Pipeline(steps=[\n",
    "        ('preprocessor', preprocessor),\n",
    "        ('classifier', DecisionTreeClassifier())\n",
    "    ])\n",
    "\n",
    "    sss = StratifiedShuffleSplit(n_splits=n_repeats, test_size=test_size)\n",
    "    acc_scores = []\n",
    "    prec_scores = []\n",
    "    f_1_scores = []\n",
    "\n",
    "    for train_idx, test_idx in sss.split(X, y):\n",
    "        X_train, X_test = X.iloc[train_idx], X.iloc[test_idx]\n",
    "        y_train, y_test = y.iloc[train_idx], y.iloc[test_idx]\n",
    "\n",
    "        tree_clf.fit(X_train, y_train)\n",
    "        y_pred = tree_clf.predict(X_test)\n",
    "\n",
    "        acc_scores.append(accuracy_score(y_test, y_pred))\n",
    "        prec_scores.append(precision_score(y_test, y_pred, average='weighted', zero_division=0))\n",
    "        f_1_scores.append(f1_score(y_test, y_pred, average='weighted', zero_division=0))\n",
    "\n",
    "    return np.mean(np.array(acc_scores)), np.mean(np.array(prec_scores)), np.mean(np.array(f_1_scores))"
   ]
  },
  {
   "cell_type": "markdown",
   "id": "efce8ae6",
   "metadata": {},
   "source": [
    "To find how many attributes yield the best result, run the fitting for every combination for all the numbers above a threshold."
   ]
  },
  {
   "cell_type": "code",
   "execution_count": 519,
   "id": "ef8c55ac",
   "metadata": {},
   "outputs": [],
   "source": [
    "def search_best_combinations(df, target, min_comb_size=2, n_repeats=5):\n",
    "    features = df.drop(columns=[target]).columns.tolist()\n",
    "    accuracy_stat = []\n",
    "    precision_stat = []\n",
    "    f1_stat = []\n",
    "\n",
    "    attr_combos_acc = []\n",
    "    attr_combos_prec = []\n",
    "    attr_combos_f1 = []\n",
    "\n",
    "    for r in range(min_comb_size, len(features) + 1):\n",
    "        max_acc = 0\n",
    "        max_acc_attr = []\n",
    "        max_prec = 0\n",
    "        max_prec_attr = []\n",
    "        max_f1 = 0\n",
    "        max_f1_attr = []\n",
    "        for attr_combo in combinations(features, r):\n",
    "            attributes = list(attr_combo)\n",
    "            acc, prec, f1 = evaluate_combination(df, attributes, target, n_repeats=n_repeats)\n",
    "\n",
    "            if acc > max_acc:\n",
    "                max_acc = acc\n",
    "                max_acc_attr = attributes\n",
    "            if prec > max_prec:\n",
    "                max_prec = prec\n",
    "                max_prec_attr = attributes\n",
    "            if f1 > max_f1:\n",
    "                max_f1 = f1\n",
    "                max_f1_attr = attributes\n",
    "\n",
    "        accuracy_stat.append(max_acc)\n",
    "        precision_stat.append(max_prec)\n",
    "        f1_stat.append(max_f1)\n",
    "\n",
    "        attr_combos_acc.append(max_acc_attr)\n",
    "        attr_combos_prec.append(max_prec_attr)\n",
    "        attr_combos_f1.append(max_f1_attr)\n",
    "        print(f\"{r} DONE\")\n",
    "\n",
    "    return np.arange(min_comb_size, len(features) + 1), np.array(accuracy_stat), np.array(precision_stat), np.array(f1_stat), attr_combos_acc, attr_combos_prec, attr_combos_f1\n"
   ]
  },
  {
   "cell_type": "code",
   "execution_count": 520,
   "id": "cafd73cb",
   "metadata": {},
   "outputs": [
    {
     "name": "stdout",
     "output_type": "stream",
     "text": [
      "3 DONE\n",
      "4 DONE\n",
      "5 DONE\n",
      "6 DONE\n",
      "7 DONE\n",
      "8 DONE\n",
      "9 DONE\n",
      "10 DONE\n"
     ]
    }
   ],
   "source": [
    "n_attr, accuracy, precision, f1, acc_attr, prec_attr, f1_attr  = search_best_combinations(\n",
    "    cleaned_data,\n",
    "    \"programme\",\n",
    "    min_comb_size=3,\n",
    "    n_repeats=50\n",
    ")"
   ]
  },
  {
   "cell_type": "code",
   "execution_count": 521,
   "id": "38c1bf08",
   "metadata": {},
   "outputs": [
    {
     "data": {
      "image/png": "[encoded data removed]",
      "text/plain": [
       "<Figure size 800x800 with 1 Axes>"
      ]
     },
     "metadata": {},
     "output_type": "display_data"
    }
   ],
   "source": [
    "plt.figure(figsize=(8, 8))\n",
    "plt.plot(n_attr, accuracy, label=\"Accuray\")\n",
    "plt.plot(n_attr, precision, label=\"Precision\")\n",
    "plt.plot(n_attr, f1, label=\"f1\")\n",
    "\n",
    "plt.title(\"Accuracy vs Number of Attributes\")\n",
    "plt.xlabel(\"Number of Attributes\")\n",
    "plt.ylabel(\"Statistics\")\n",
    "\n",
    "plt.legend()\n",
    "plt.show()"
   ]
  },
  {
   "cell_type": "code",
   "execution_count": 522,
   "id": "80ed3e0c",
   "metadata": {},
   "outputs": [
    {
     "name": "stdout",
     "output_type": "stream",
     "text": [
      "['experience_ml', 'experience_db', 'gender', 'chatgpt_usage', 'count_students']\n"
     ]
    }
   ],
   "source": [
    "print(acc_attr[2])"
   ]
  },
  {
   "cell_type": "code",
   "execution_count": 523,
   "id": "460fa780",
   "metadata": {},
   "outputs": [
    {
     "name": "stdout",
     "output_type": "stream",
     "text": [
      "Accuracy: 0.2857\n",
      "Precision: 0.2217\n",
      "F1: 0.2350\n"
     ]
    }
   ],
   "source": [
    "categorical_features = ['experience_ml', 'experience_db', 'gender', 'chatgpt_usage']\n",
    "numeric_features = ['count_students']\n",
    "target_var_col = 'programme'\n",
    "test_size = 0.2\n",
    "\n",
    "preprocessor = ColumnTransformer(\n",
    "    transformers=[\n",
    "        (\"cat\", OneHotEncoder(), categorical_features),\n",
    "        (\"num\", \"passthrough\", numeric_features)\n",
    "    ]\n",
    ")\n",
    "\n",
    "pipeline = Pipeline([\n",
    "    (\"preprocessing\", preprocessor),\n",
    "    (\"classifier\", DecisionTreeClassifier(random_state=100))\n",
    "])\n",
    "\n",
    "encoder = LabelEncoder()\n",
    "train_val_data, test_data = train_test_split(cleaned_data, test_size=test_size, random_state=100)\n",
    "\n",
    "y_train = encoder.fit_transform(train_val_data[target_var_col])\n",
    "y_test = encoder.transform(test_data[target_var_col])\n",
    "\n",
    "X_train = train_val_data[categorical_features + numeric_features]\n",
    "pipeline.fit(X_train, y_train)\n",
    "\n",
    "X_test = test_data[categorical_features + numeric_features]\n",
    "y_pred = pipeline.predict(X_test)\n",
    "\n",
    "print(f\"Accuracy: {accuracy_score(y_test, y_pred):.4f}\")\n",
    "print(f\"Precision: {precision_score(y_test, y_pred, average='weighted', zero_division=0):.4f}\")\n",
    "print(f\"F1: {f1_score(y_test, y_pred, average='weighted', zero_division=0):.4f}\")"
   ]
  }
 ],
 "metadata": {
  "kernelspec": {
   "display_name": "Python 3",
   "language": "python",
   "name": "python3"
  },
  "language_info": {
   "codemirror_mode": {
    "name": "ipython",
    "version": 3
   },
   "file_extension": ".py",
   "mimetype": "text/x-python",
   "name": "python",
   "nbconvert_exporter": "python",
   "pygments_lexer": "ipython3",
   "version": "3.11.11"
  }
 },
 "nbformat": 4,
 "nbformat_minor": 5
}
