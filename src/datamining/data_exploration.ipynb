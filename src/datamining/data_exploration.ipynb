{
 "cells": [
  {
   "cell_type": "markdown",
   "id": "ee19d846ab83ce4d",
   "metadata": {},
   "source": [
    "**Imports**"
   ]
  },
  {
   "cell_type": "code",
   "execution_count": 1117,
   "id": "94a9f0af63855a2f",
   "metadata": {
    "jupyter": {
     "is_executing": true
    }
   },
   "outputs": [],
   "source": [
    "import pandas as pd\n",
    "import numpy as np\n",
    "from matplotlib import pyplot as plt\n",
    "from dateutil.parser import parse\n",
    "import random\n",
    "\n",
    "pd.set_option(\"display.max_rows\", None)\n",
    "pd.set_option(\"display.max_columns\", None)\n",
    "pd.set_option(\"display.max_colwidth\", None)"
   ]
  },
  {
   "cell_type": "markdown",
   "id": "2cfc5ff0",
   "metadata": {},
   "source": [
    "##### Parse Data"
   ]
  },
  {
   "cell_type": "code",
   "execution_count": 1118,
   "id": "6e0927d1",
   "metadata": {},
   "outputs": [
    {
     "name": "stdout",
     "output_type": "stream",
     "text": [
      "              Tijdstempel          What programme are you in?  \\\n",
      "0 2025-04-01 12:17:06.560         MSc Artificial Intelligence   \n",
      "1 2025-04-01 12:17:14.118            Artificial Intelligence    \n",
      "2 2025-04-01 12:17:16.917                        Econometrics   \n",
      "3 2025-04-01 12:17:20.718         Econometrics - Data Science   \n",
      "4 2025-04-01 12:17:23.836  Bioinformatics’s & Systems Biology   \n",
      "\n",
      "  Have you taken a course on machine learning?  \\\n",
      "0                                          yes   \n",
      "1                                          yes   \n",
      "2                                          yes   \n",
      "3                                          yes   \n",
      "4                                          yes   \n",
      "\n",
      "  Have you taken a course on information retrieval?  \\\n",
      "0                                           unknown   \n",
      "1                                                 1   \n",
      "2                                                 1   \n",
      "3                                                 0   \n",
      "4                                                 1   \n",
      "\n",
      "  Have you taken a course on statistics?  \\\n",
      "0                                     mu   \n",
      "1                                  sigma   \n",
      "2                                     mu   \n",
      "3                                     mu   \n",
      "4                                     mu   \n",
      "\n",
      "  Have you taken a course on databases? What is your gender?  \\\n",
      "0                                    ja                 male   \n",
      "1                                    ja               female   \n",
      "2                                    ja                 male   \n",
      "3                                   nee                 male   \n",
      "4                                    ja                 male   \n",
      "\n",
      "  I have used ChatGPT to help me with some of my study assignments   \\\n",
      "0                                                               yes   \n",
      "1                                                               yes   \n",
      "2                                                not willing to say   \n",
      "3                                                               yes   \n",
      "4                                                               yes   \n",
      "\n",
      "  When is your birthday (date)?  \\\n",
      "0                    01-01-1888   \n",
      "1                    31/01/2002   \n",
      "2                    September    \n",
      "3                    17/10/2003   \n",
      "4                    19/04/2000   \n",
      "\n",
      "  How many students do you estimate there are in the room?  \\\n",
      "0                                                      400   \n",
      "1                                                      321   \n",
      "2                                                      200   \n",
      "3                                                      350   \n",
      "4                                                      500   \n",
      "\n",
      "  What is your stress level (0-100)?  \\\n",
      "0                                 78   \n",
      "1                               1000   \n",
      "2                                101   \n",
      "3                                 60   \n",
      "4                                 50   \n",
      "\n",
      "  How many hours per week do you do sports (in whole hours)?   \\\n",
      "0                                                           0   \n",
      "1                                                           2   \n",
      "2                                                           4   \n",
      "3                                                           6   \n",
      "4                                                           8   \n",
      "\n",
      "  Give a random number Time you went to bed Yesterday  \\\n",
      "0               928393                          00:00   \n",
      "1                31416                          12:30   \n",
      "2                    5                           0:30   \n",
      "3                   37                          23:00   \n",
      "4                    1                             12   \n",
      "\n",
      "  What makes a good day for you (1)? What makes a good day for you (2)?  \n",
      "0                               Food                             Travel  \n",
      "1                                sun                             coffee  \n",
      "2                           Zonnetje                             Aperol  \n",
      "3                                Sun                                Sun  \n",
      "4                                  -                                  -  \n"
     ]
    }
   ],
   "source": [
    "raw_data = pd.read_excel(\"/Users/marcellszegedi/Documents/Data_Mining/src/datamining/data/simple_data.xlsx\")\n",
    "print(raw_data.head())"
   ]
  },
  {
   "cell_type": "markdown",
   "id": "a81fcc80",
   "metadata": {},
   "source": [
    "##### Rename, drop, convert Columns"
   ]
  },
  {
   "cell_type": "code",
   "execution_count": 1119,
   "id": "645bbd3b",
   "metadata": {},
   "outputs": [
    {
     "name": "stdout",
     "output_type": "stream",
     "text": [
      "Index(['Tijdstempel', 'What programme are you in?',\n",
      "       'Have you taken a course on machine learning?',\n",
      "       'Have you taken a course on information retrieval?',\n",
      "       'Have you taken a course on statistics?',\n",
      "       'Have you taken a course on databases?', 'What is your gender?',\n",
      "       'I have used ChatGPT to help me with some of my study assignments ',\n",
      "       'When is your birthday (date)?',\n",
      "       'How many students do you estimate there are in the room?',\n",
      "       'What is your stress level (0-100)?',\n",
      "       'How many hours per week do you do sports (in whole hours)? ',\n",
      "       'Give a random number', 'Time you went to bed Yesterday',\n",
      "       'What makes a good day for you (1)?',\n",
      "       'What makes a good day for you (2)?'],\n",
      "      dtype='object')\n"
     ]
    }
   ],
   "source": [
    "print(raw_data.columns)"
   ]
  },
  {
   "cell_type": "markdown",
   "id": "5cd6e09d",
   "metadata": {},
   "source": [
    "As we can see the attributes names are phrased as questions, which is improper for the concise analysis, therefore they need to be renamed first."
   ]
  },
  {
   "cell_type": "code",
   "execution_count": 1120,
   "id": "e9848d7f",
   "metadata": {},
   "outputs": [
    {
     "name": "stdout",
     "output_type": "stream",
     "text": [
      "Index(['timestamp', 'programme', 'experience_ml', 'experience_ir',\n",
      "       'experience_st', 'experience_db', 'gender', 'chatgpt_usage', 'birthday',\n",
      "       'count_students', 'stress_level', 'hours_spend_w_sport', 'rnd_number',\n",
      "       'bedtime', 'pleasant_thing_1', 'pleasant_thing_2'],\n",
      "      dtype='object')\n"
     ]
    }
   ],
   "source": [
    "raw_data.rename(\n",
    "    columns={\n",
    "        \"Tijdstempel\": \"timestamp\",\n",
    "        \"What programme are you in?\": \"programme\",\n",
    "        \"Have you taken a course on machine learning?\": \"experience_ml\",\n",
    "        \"Have you taken a course on information retrieval?\": \"experience_ir\",\n",
    "        \"Have you taken a course on statistics?\": \"experience_st\",\n",
    "        \"Have you taken a course on databases?\": \"experience_db\",\n",
    "        \"What is your gender?\": \"gender\",\n",
    "        \"I have used ChatGPT to help me with some of my study assignments \": \"chatgpt_usage\",\n",
    "        \"When is your birthday (date)?\": \"birthday\",\n",
    "        \"How many students do you estimate there are in the room?\": \"count_students\",\n",
    "        \"What is your stress level (0-100)?\": \"stress_level\",\n",
    "        \"How many hours per week do you do sports (in whole hours)? \": \"hours_spend_w_sport\",\n",
    "        \"Give a random number\": \"rnd_number\",\n",
    "        \"Time you went to bed Yesterday\": \"bedtime\",\n",
    "        \"What makes a good day for you (1)?\": \"pleasant_thing_1\",\n",
    "        \"What makes a good day for you (2)?\": \"pleasant_thing_2\",\n",
    "    },\n",
    "    inplace=True,\n",
    ")\n",
    "print(raw_data.columns)"
   ]
  },
  {
   "cell_type": "markdown",
   "id": "68a6ff57",
   "metadata": {},
   "source": [
    "Delete two sample which adds only confusion and zero relevancy to the analysis as based on the their answers they can not be interpreted valid nor responsible."
   ]
  },
  {
   "cell_type": "code",
   "execution_count": 1121,
   "id": "56907170",
   "metadata": {},
   "outputs": [
    {
     "name": "stdout",
     "output_type": "stream",
     "text": [
      "timestamp                                                                                                                                                                              2025-04-01 12:29:46.856000\n",
      "programme                                                                                                                                                   B-123456789():;,.?-€/&@„_<|>#,{%^*+=•£$$< \\n\\+2332‘mm\n",
      "experience_ml                                                                                                                                                                                             unknown\n",
      "experience_ir                                                                                                                                                                                                   0\n",
      "experience_st                                                                                                                                                                                               sigma\n",
      "experience_db                                                                                                                                                                                                 nee\n",
      "gender                                                                                                                                                                                                   intersex\n",
      "chatgpt_usage                                                                                                                                                                                                  no\n",
      "birthday                                                                                                                                                              /U+200B/-1/-0/-0.0f/-0,0d Long int 12-0/:0;\n",
      "count_students                                                                                                                                                                                                 -1\n",
      "stress_level                                                                                                                                                                                  2147483649999999999\n",
      "hours_spend_w_sport                                                                                                                                                                                    2149483649\n",
      "rnd_number             999999999999999999999889988888888877777888999999999999988888889999999999999999999998899888888888777778889999999999999888888899999999999999999999988998888888887777788899999999999998888888\n",
      "bedtime                                                                                                                                                                                                     0 AD \n",
      "pleasant_thing_1                                                                                                                                                                   ()€€€€& ../rm -rf ~/* hdhdhdh \n",
      "pleasant_thing_2                                                                                                                                                                                          Alcohol\n",
      "Name: 244, dtype: object\n",
      "timestamp              2025-04-01 12:20:46.013000\n",
      "programme                       Computer science \n",
      "experience_ml                                 yes\n",
      "experience_ir                             unknown\n",
      "experience_st                                  mu\n",
      "experience_db                                  ja\n",
      "gender                      not willing to answer\n",
      "chatgpt_usage                  not willing to say\n",
      "birthday                                 19000000\n",
      "count_students                                 -3\n",
      "stress_level                  I BELIEVE I CAN FLY\n",
      "hours_spend_w_sport                          &&&&\n",
      "rnd_number                                      😅\n",
      "bedtime                                1743502757\n",
      "pleasant_thing_1                            👁️‍🗨️\n",
      "pleasant_thing_2                                🥴\n",
      "Name: 239, dtype: object\n",
      "245\n",
      "243\n"
     ]
    }
   ],
   "source": [
    "print(raw_data.iloc[244])\n",
    "print(raw_data.iloc[239])\n",
    "\n",
    "print(len(raw_data.index))\n",
    "raw_data = raw_data.drop([239, 244])\n",
    "raw_data = raw_data.reset_index(drop=True)\n",
    "print(len(raw_data.index))"
   ]
  },
  {
   "cell_type": "markdown",
   "id": "9012ffbc",
   "metadata": {},
   "source": [
    "Now that we hve renamed them, and checked the meaning, it is clear that in the (realistic)connection with the target variable (stress level) is variying quite much. Lets drop the one, which should be exclued right away, as their relevancy is not well-established.\n",
    "The following columns are going to be removed:\n",
    "- timestamp\n",
    "- rnd_number"
   ]
  },
  {
   "cell_type": "code",
   "execution_count": 1122,
   "id": "58341582",
   "metadata": {},
   "outputs": [
    {
     "name": "stdout",
     "output_type": "stream",
     "text": [
      "Index(['programme', 'experience_ml', 'experience_ir', 'experience_st',\n",
      "       'experience_db', 'gender', 'chatgpt_usage', 'birthday',\n",
      "       'count_students', 'stress_level', 'hours_spend_w_sport', 'bedtime',\n",
      "       'pleasant_thing_1', 'pleasant_thing_2'],\n",
      "      dtype='object')\n"
     ]
    }
   ],
   "source": [
    "raw_data.drop([\"timestamp\", \"rnd_number\"], axis=1, inplace=True)\n",
    "print(raw_data.columns)"
   ]
  },
  {
   "cell_type": "markdown",
   "id": "18976f01",
   "metadata": {},
   "source": [
    "Now, lets convert the datatypes of the remaining columns that fits their information tpye. First we need to check the boolean valued columns for and correct and discrepancies.\n",
    "The following columns should have boolean values, (where True means 'yes', False maps to 'no'):\n",
    "- experience_ml\n",
    "- experience_ir\n",
    "- experience_st\n",
    "- experience_db\n",
    "- chatgpt_usage\n",
    "\n",
    "(where True (1) means 'female', False (0) means 'male'):\n",
    "- gender\n",
    "\n",
    "Lets check the possible values of the columns listed above:"
   ]
  },
  {
   "cell_type": "code",
   "execution_count": 1123,
   "id": "6a8f9846",
   "metadata": {},
   "outputs": [
    {
     "name": "stdout",
     "output_type": "stream",
     "text": [
      "EXPERIENCE_ML values:\n",
      "['yes' 'no' 'unknown']\n",
      "EXPERIENCE_IR values:\n",
      "['unknown' 1 0]\n",
      "EXPERIENCE_ST values:\n",
      "['mu' 'sigma' 'unknown']\n",
      "EXPERIENCE_DB values:\n",
      "['ja' 'nee' 'unknown']\n",
      "GENDER values:\n",
      "['male' 'female' 'gender fluid' 'not willing to answer' 'intersex'\n",
      " 'non-binary' 'other']\n",
      "CHATGPT_USAGE values:\n",
      "['yes' 'not willing to say' 'no']\n"
     ]
    }
   ],
   "source": [
    "for col_name in [\"experience_ml\", \"experience_ir\", \"experience_st\", \"experience_db\", \"gender\", \"chatgpt_usage\"]:\n",
    "    print(f\"{col_name.upper()} values:\")\n",
    "    print(raw_data[col_name].unique())"
   ]
  },
  {
   "cell_type": "markdown",
   "id": "fa679146",
   "metadata": {},
   "source": [
    "Out of the first four columns (experience_..) ml's answers are obvious, while ir's and db's are less but still can be considered well-established as based on the assumed background of the students in the course (who created the dataset), we can expect that they mapped '1' to 'yes' and '0' to 'no' in their answer, and even though 'ja' and 'nee' are in Dutch, their resemblence to their english (or german) correspondance, can be again expected to be correct and reliable.\n",
    "\n",
    "For the rest three the True (1) and False (0) are going to be mapped to 'yes' and 'no', respectively, while 'unknown' are going to be replaced with 'nan'."
   ]
  },
  {
   "cell_type": "code",
   "execution_count": 1124,
   "id": "5392a207",
   "metadata": {},
   "outputs": [],
   "source": [
    "bin_map_ml = {\"yes\": True, \"no\": False}\n",
    "bin_map_ir = {1: True, 0: False}\n",
    "bin_map_db = {\"ja\": True, \"nee\": False}\n",
    "bin_map_st = {\"mu\": True, \"sigma\": False}\n",
    "\n",
    "raw_data[\"experience_ml\"] = raw_data[\"experience_ml\"].map(bin_map_ml)\n",
    "raw_data[\"experience_ir\"] = raw_data[\"experience_ir\"].map(bin_map_ir)\n",
    "raw_data[\"experience_db\"] = raw_data[\"experience_db\"].map(bin_map_db)\n",
    "raw_data[\"experience_st\"] = raw_data[\"experience_st\"].map(bin_map_st)"
   ]
  },
  {
   "cell_type": "markdown",
   "id": "7fb74b0e",
   "metadata": {},
   "source": [
    "In case of chatgpt_usage we are going to map \"yes\" to True, \"no\" to False and leave nan in place of \"not willing to say\", however for further consideration values of \"not willing to say\" may be mapped to True."
   ]
  },
  {
   "cell_type": "code",
   "execution_count": 1125,
   "id": "66f4d176",
   "metadata": {},
   "outputs": [],
   "source": [
    "bin_map_chatgpt = {\"yes\": True, \"no\": False}\n",
    "\n",
    "raw_data[\"chatgpt_usage\"] = raw_data[\"chatgpt_usage\"].map(bin_map_chatgpt)"
   ]
  },
  {
   "cell_type": "markdown",
   "id": "7cbc206a",
   "metadata": {},
   "source": [
    "For gender the decision is harder as for example \"intersex\" refers to a biological state rather than a gender identity like \"non-binary\", \"gender fluid\" or \"other\". In order to predict the effect of different grouping decisions, check the distribution of the various answers."
   ]
  },
  {
   "cell_type": "code",
   "execution_count": 1126,
   "id": "c5bdc4a5",
   "metadata": {},
   "outputs": [
    {
     "name": "stdout",
     "output_type": "stream",
     "text": [
      "gender\n",
      "male                     137\n",
      "female                    89\n",
      "not willing to answer      8\n",
      "gender fluid               4\n",
      "intersex                   3\n",
      "non-binary                 1\n",
      "other                      1\n",
      "Name: count, dtype: int64\n"
     ]
    }
   ],
   "source": [
    "print(raw_data[\"gender\"].value_counts())"
   ]
  },
  {
   "cell_type": "markdown",
   "id": "d85f607b",
   "metadata": {},
   "source": [
    "As it can be observed, only a few responsers chose options outside the group of \"male\" and \"female\". In this case, the best strategy to prevent the distribution fragmentation, which can potentially cause problems later during the fitting process, \"male\", \"female\" values are going to be mapped to integer 0, 1. \"not willing to answer\" will mapped to nan, while every other answer will be mapped to a new common group denoted with integer value 2."
   ]
  },
  {
   "cell_type": "code",
   "execution_count": 1127,
   "id": "e0222630",
   "metadata": {},
   "outputs": [],
   "source": [
    "gender_map = {\"male\": 0, \"female\": 1, \"gender fluid\": 2, \"intersex\": 2, \"non-binary\": 2, \"other\": 2}\n",
    "\n",
    "raw_data[\"gender\"] = raw_data[\"gender\"].map(gender_map)"
   ]
  },
  {
   "cell_type": "markdown",
   "id": "cc41d90a",
   "metadata": {},
   "source": [
    "Lets check the new values and their distribution!"
   ]
  },
  {
   "cell_type": "code",
   "execution_count": 1128,
   "id": "8920d3f8",
   "metadata": {},
   "outputs": [
    {
     "name": "stdout",
     "output_type": "stream",
     "text": [
      "EXPERIENCE_ML values:\n",
      "[True False nan]\n",
      "EXPERIENCE_IR values:\n",
      "[nan True False]\n",
      "EXPERIENCE_ST values:\n",
      "[True False nan]\n",
      "EXPERIENCE_DB values:\n",
      "[True False nan]\n",
      "GENDER values:\n",
      "[ 0.  1.  2. nan]\n",
      "CHATGPT_USAGE values:\n",
      "[True nan False]\n"
     ]
    },
    {
     "data": {
      "image/png": "[encoded data removed]",
      "text/plain": [
       "<Figure size 1500x1000 with 6 Axes>"
      ]
     },
     "metadata": {},
     "output_type": "display_data"
    }
   ],
   "source": [
    "for col_name in [\"experience_ml\", \"experience_ir\", \"experience_st\", \"experience_db\", \"gender\", \"chatgpt_usage\"]:\n",
    "    print(f\"{col_name.upper()} values:\")\n",
    "    print(raw_data[col_name].unique())\n",
    "\n",
    "fig, ax = plt.subplots(2, 3, figsize=(15, 10))\n",
    "\n",
    "for idx, col_name in enumerate(\n",
    "    [\"experience_ml\", \"experience_ir\", \"experience_db\", \"experience_st\", \"gender\", \"chatgpt_usage\"]\n",
    "):\n",
    "    row_idx = idx // 3\n",
    "    col_idx = idx % 3\n",
    "\n",
    "    value_counts = raw_data[col_name].value_counts(dropna=False)\n",
    "    value_dist = value_counts / len(raw_data[col_name]) * 100\n",
    "\n",
    "    ax[row_idx, col_idx].bar(value_counts.index.astype(str), value_counts.values)\n",
    "    ax[row_idx, col_idx].set_title(col_name.upper())\n",
    "    ax[row_idx, col_idx].set_xlabel(\"Values\")\n",
    "    ax[row_idx, col_idx].set_ylabel(\"Distribution\")\n",
    "\n",
    "plt.show()"
   ]
  },
  {
   "cell_type": "markdown",
   "id": "0fc2785c",
   "metadata": {},
   "source": [
    "Now fill all the nan values for the attributes above by sampling from a distribution that has relative probabilities as of the real value frequencies. (For binary it is going to be Bernouli dist.)"
   ]
  },
  {
   "cell_type": "markdown",
   "id": "442549a7",
   "metadata": {},
   "source": [
    "EXPERIENCE_ML:"
   ]
  },
  {
   "cell_type": "code",
   "execution_count": 1129,
   "id": "37923cfd",
   "metadata": {},
   "outputs": [
    {
     "name": "stdout",
     "output_type": "stream",
     "text": [
      "0\n"
     ]
    },
    {
     "name": "stderr",
     "output_type": "stream",
     "text": [
      "/var/folders/5j/l7bq8d6913g6mmrlqytjzbbm0000gn/T/ipykernel_15036/3772039632.py:6: FutureWarning: ChainedAssignmentError: behaviour will change in pandas 3.0!\n",
      "You are setting values through chained assignment. Currently this works in certain cases, but when using Copy-on-Write (which will become the default behaviour in pandas 3.0) this will never work to update the original DataFrame or Series, because the intermediate object on which we are setting values will behave as a copy.\n",
      "A typical example is when you are setting values in a column of a DataFrame, like:\n",
      "\n",
      "df[\"col\"][row_indexer] = value\n",
      "\n",
      "Use `df.loc[row_indexer, \"col\"] = values` instead, to perform the assignment in a single step and ensure this keeps updating the original `df`.\n",
      "\n",
      "See the caveats in the documentation: https://pandas.pydata.org/pandas-docs/stable/user_guide/indexing.html#returning-a-view-versus-a-copy\n",
      "\n",
      "  raw_data[\"experience_ml\"].loc[raw_data[\"experience_ml\"].isna()] = exp_ml_samples\n",
      "/var/folders/5j/l7bq8d6913g6mmrlqytjzbbm0000gn/T/ipykernel_15036/3772039632.py:6: SettingWithCopyWarning: \n",
      "A value is trying to be set on a copy of a slice from a DataFrame\n",
      "\n",
      "See the caveats in the documentation: https://pandas.pydata.org/pandas-docs/stable/user_guide/indexing.html#returning-a-view-versus-a-copy\n",
      "  raw_data[\"experience_ml\"].loc[raw_data[\"experience_ml\"].isna()] = exp_ml_samples\n"
     ]
    },
    {
     "data": {
      "image/png": "[encoded data removed]",
      "text/plain": [
       "<Figure size 640x480 with 1 Axes>"
      ]
     },
     "metadata": {},
     "output_type": "display_data"
    }
   ],
   "source": [
    "prob_true_exp_ml = raw_data[\"experience_ml\"].value_counts(normalize=True).get(True, 0)\n",
    "prob_false_exp_ml = raw_data[\"experience_ml\"].value_counts(normalize=True).get(False, 0)\n",
    "\n",
    "exp_ml_samples = random.choices(\n",
    "    [True, False], weights=[prob_true_exp_ml, prob_false_exp_ml], k=raw_data[\"experience_ml\"].isna().sum()\n",
    ")\n",
    "\n",
    "raw_data[\"experience_ml\"].loc[raw_data[\"experience_ml\"].isna()] = exp_ml_samples\n",
    "raw_data[\"experience_ml\"].value_counts().plot(kind=\"bar\")\n",
    "print(raw_data[\"experience_ml\"].isna().sum())"
   ]
  },
  {
   "cell_type": "markdown",
   "id": "b535ff30",
   "metadata": {},
   "source": [
    "EXPERIENCE_IR:"
   ]
  },
  {
   "cell_type": "code",
   "execution_count": 1130,
   "id": "b534965b",
   "metadata": {},
   "outputs": [
    {
     "name": "stderr",
     "output_type": "stream",
     "text": [
      "/var/folders/5j/l7bq8d6913g6mmrlqytjzbbm0000gn/T/ipykernel_15036/1027473954.py:6: FutureWarning: ChainedAssignmentError: behaviour will change in pandas 3.0!\n",
      "You are setting values through chained assignment. Currently this works in certain cases, but when using Copy-on-Write (which will become the default behaviour in pandas 3.0) this will never work to update the original DataFrame or Series, because the intermediate object on which we are setting values will behave as a copy.\n",
      "A typical example is when you are setting values in a column of a DataFrame, like:\n",
      "\n",
      "df[\"col\"][row_indexer] = value\n",
      "\n",
      "Use `df.loc[row_indexer, \"col\"] = values` instead, to perform the assignment in a single step and ensure this keeps updating the original `df`.\n",
      "\n",
      "See the caveats in the documentation: https://pandas.pydata.org/pandas-docs/stable/user_guide/indexing.html#returning-a-view-versus-a-copy\n",
      "\n",
      "  raw_data[\"experience_ir\"].loc[raw_data[\"experience_ir\"].isna()] = exp_ir_samples\n",
      "/var/folders/5j/l7bq8d6913g6mmrlqytjzbbm0000gn/T/ipykernel_15036/1027473954.py:6: SettingWithCopyWarning: \n",
      "A value is trying to be set on a copy of a slice from a DataFrame\n",
      "\n",
      "See the caveats in the documentation: https://pandas.pydata.org/pandas-docs/stable/user_guide/indexing.html#returning-a-view-versus-a-copy\n",
      "  raw_data[\"experience_ir\"].loc[raw_data[\"experience_ir\"].isna()] = exp_ir_samples\n"
     ]
    },
    {
     "name": "stdout",
     "output_type": "stream",
     "text": [
      "0\n"
     ]
    },
    {
     "data": {
      "image/png": "[encoded data removed]",
      "text/plain": [
       "<Figure size 640x480 with 1 Axes>"
      ]
     },
     "metadata": {},
     "output_type": "display_data"
    }
   ],
   "source": [
    "prob_true_exp_ir = raw_data[\"experience_ir\"].value_counts(normalize=True).get(True, 0)\n",
    "prob_false_exp_ir = raw_data[\"experience_ir\"].value_counts(normalize=True).get(False, 0)\n",
    "\n",
    "exp_ir_samples = random.choices(\n",
    "    [True, False], weights=[prob_true_exp_ir, prob_false_exp_ir], k=raw_data[\"experience_ir\"].isna().sum()\n",
    ")\n",
    "\n",
    "raw_data[\"experience_ir\"].loc[raw_data[\"experience_ir\"].isna()] = exp_ir_samples\n",
    "raw_data[\"experience_ir\"].value_counts().plot(kind=\"bar\")\n",
    "print(raw_data[\"experience_ir\"].isna().sum())"
   ]
  },
  {
   "cell_type": "markdown",
   "id": "8673883e",
   "metadata": {},
   "source": [
    "EXPERIENCE_DB:"
   ]
  },
  {
   "cell_type": "code",
   "execution_count": 1131,
   "id": "7b8e4b5e",
   "metadata": {},
   "outputs": [
    {
     "name": "stderr",
     "output_type": "stream",
     "text": [
      "/var/folders/5j/l7bq8d6913g6mmrlqytjzbbm0000gn/T/ipykernel_15036/3071085736.py:6: FutureWarning: ChainedAssignmentError: behaviour will change in pandas 3.0!\n",
      "You are setting values through chained assignment. Currently this works in certain cases, but when using Copy-on-Write (which will become the default behaviour in pandas 3.0) this will never work to update the original DataFrame or Series, because the intermediate object on which we are setting values will behave as a copy.\n",
      "A typical example is when you are setting values in a column of a DataFrame, like:\n",
      "\n",
      "df[\"col\"][row_indexer] = value\n",
      "\n",
      "Use `df.loc[row_indexer, \"col\"] = values` instead, to perform the assignment in a single step and ensure this keeps updating the original `df`.\n",
      "\n",
      "See the caveats in the documentation: https://pandas.pydata.org/pandas-docs/stable/user_guide/indexing.html#returning-a-view-versus-a-copy\n",
      "\n",
      "  raw_data[\"experience_db\"].loc[raw_data[\"experience_db\"].isna()] = exp_db_samples\n",
      "/var/folders/5j/l7bq8d6913g6mmrlqytjzbbm0000gn/T/ipykernel_15036/3071085736.py:6: SettingWithCopyWarning: \n",
      "A value is trying to be set on a copy of a slice from a DataFrame\n",
      "\n",
      "See the caveats in the documentation: https://pandas.pydata.org/pandas-docs/stable/user_guide/indexing.html#returning-a-view-versus-a-copy\n",
      "  raw_data[\"experience_db\"].loc[raw_data[\"experience_db\"].isna()] = exp_db_samples\n"
     ]
    },
    {
     "name": "stdout",
     "output_type": "stream",
     "text": [
      "0\n"
     ]
    },
    {
     "data": {
      "image/png": "[encoded data removed]",
      "text/plain": [
       "<Figure size 640x480 with 1 Axes>"
      ]
     },
     "metadata": {},
     "output_type": "display_data"
    }
   ],
   "source": [
    "prob_true_exp_db = raw_data[\"experience_db\"].value_counts(normalize=True).get(True, 0)\n",
    "prob_false_exp_db = raw_data[\"experience_db\"].value_counts(normalize=True).get(False, 0)\n",
    "\n",
    "exp_db_samples = random.choices(\n",
    "    [True, False], weights=[prob_true_exp_db, prob_false_exp_db], k=raw_data[\"experience_db\"].isna().sum()\n",
    ")\n",
    "\n",
    "raw_data[\"experience_db\"].loc[raw_data[\"experience_db\"].isna()] = exp_db_samples\n",
    "raw_data[\"experience_db\"].value_counts().plot(kind=\"bar\")\n",
    "print(raw_data[\"experience_db\"].isna().sum())"
   ]
  },
  {
   "cell_type": "markdown",
   "id": "4ca15db5",
   "metadata": {},
   "source": [
    "EXPERIENCE_ST:"
   ]
  },
  {
   "cell_type": "code",
   "execution_count": 1132,
   "id": "2cc7ec36",
   "metadata": {},
   "outputs": [
    {
     "name": "stderr",
     "output_type": "stream",
     "text": [
      "/var/folders/5j/l7bq8d6913g6mmrlqytjzbbm0000gn/T/ipykernel_15036/3071085736.py:6: FutureWarning: ChainedAssignmentError: behaviour will change in pandas 3.0!\n",
      "You are setting values through chained assignment. Currently this works in certain cases, but when using Copy-on-Write (which will become the default behaviour in pandas 3.0) this will never work to update the original DataFrame or Series, because the intermediate object on which we are setting values will behave as a copy.\n",
      "A typical example is when you are setting values in a column of a DataFrame, like:\n",
      "\n",
      "df[\"col\"][row_indexer] = value\n",
      "\n",
      "Use `df.loc[row_indexer, \"col\"] = values` instead, to perform the assignment in a single step and ensure this keeps updating the original `df`.\n",
      "\n",
      "See the caveats in the documentation: https://pandas.pydata.org/pandas-docs/stable/user_guide/indexing.html#returning-a-view-versus-a-copy\n",
      "\n",
      "  raw_data[\"experience_db\"].loc[raw_data[\"experience_db\"].isna()] = exp_db_samples\n",
      "/var/folders/5j/l7bq8d6913g6mmrlqytjzbbm0000gn/T/ipykernel_15036/3071085736.py:6: SettingWithCopyWarning: \n",
      "A value is trying to be set on a copy of a slice from a DataFrame\n",
      "\n",
      "See the caveats in the documentation: https://pandas.pydata.org/pandas-docs/stable/user_guide/indexing.html#returning-a-view-versus-a-copy\n",
      "  raw_data[\"experience_db\"].loc[raw_data[\"experience_db\"].isna()] = exp_db_samples\n"
     ]
    },
    {
     "name": "stdout",
     "output_type": "stream",
     "text": [
      "0\n"
     ]
    },
    {
     "data": {
      "image/png": "[encoded data removed]",
      "text/plain": [
       "<Figure size 640x480 with 1 Axes>"
      ]
     },
     "metadata": {},
     "output_type": "display_data"
    }
   ],
   "source": [
    "prob_true_exp_db = raw_data[\"experience_db\"].value_counts(normalize=True).get(True, 0)\n",
    "prob_false_exp_db = raw_data[\"experience_db\"].value_counts(normalize=True).get(False, 0)\n",
    "\n",
    "exp_db_samples = random.choices(\n",
    "    [True, False], weights=[prob_true_exp_db, prob_false_exp_db], k=raw_data[\"experience_db\"].isna().sum()\n",
    ")\n",
    "\n",
    "raw_data[\"experience_db\"].loc[raw_data[\"experience_db\"].isna()] = exp_db_samples\n",
    "raw_data[\"experience_db\"].value_counts().plot(kind=\"bar\")\n",
    "print(raw_data[\"experience_db\"].isna().sum())"
   ]
  },
  {
   "cell_type": "markdown",
   "id": "04fbb9c2",
   "metadata": {},
   "source": [
    "CHATGPT_USAGE:"
   ]
  },
  {
   "cell_type": "code",
   "execution_count": 1133,
   "id": "fcf7d185",
   "metadata": {},
   "outputs": [
    {
     "name": "stderr",
     "output_type": "stream",
     "text": [
      "/var/folders/5j/l7bq8d6913g6mmrlqytjzbbm0000gn/T/ipykernel_15036/2195741679.py:6: FutureWarning: ChainedAssignmentError: behaviour will change in pandas 3.0!\n",
      "You are setting values through chained assignment. Currently this works in certain cases, but when using Copy-on-Write (which will become the default behaviour in pandas 3.0) this will never work to update the original DataFrame or Series, because the intermediate object on which we are setting values will behave as a copy.\n",
      "A typical example is when you are setting values in a column of a DataFrame, like:\n",
      "\n",
      "df[\"col\"][row_indexer] = value\n",
      "\n",
      "Use `df.loc[row_indexer, \"col\"] = values` instead, to perform the assignment in a single step and ensure this keeps updating the original `df`.\n",
      "\n",
      "See the caveats in the documentation: https://pandas.pydata.org/pandas-docs/stable/user_guide/indexing.html#returning-a-view-versus-a-copy\n",
      "\n",
      "  raw_data[\"experience_st\"].loc[raw_data[\"experience_st\"].isna()] = exp_st_samples\n",
      "/var/folders/5j/l7bq8d6913g6mmrlqytjzbbm0000gn/T/ipykernel_15036/2195741679.py:6: SettingWithCopyWarning: \n",
      "A value is trying to be set on a copy of a slice from a DataFrame\n",
      "\n",
      "See the caveats in the documentation: https://pandas.pydata.org/pandas-docs/stable/user_guide/indexing.html#returning-a-view-versus-a-copy\n",
      "  raw_data[\"experience_st\"].loc[raw_data[\"experience_st\"].isna()] = exp_st_samples\n"
     ]
    },
    {
     "name": "stdout",
     "output_type": "stream",
     "text": [
      "0\n"
     ]
    },
    {
     "data": {
      "image/png": "[encoded data removed]",
      "text/plain": [
       "<Figure size 640x480 with 1 Axes>"
      ]
     },
     "metadata": {},
     "output_type": "display_data"
    }
   ],
   "source": [
    "prob_true_exp_st = raw_data[\"experience_st\"].value_counts(normalize=True).get(True, 0)\n",
    "prob_false_exp_st = raw_data[\"experience_st\"].value_counts(normalize=True).get(False, 0)\n",
    "\n",
    "exp_st_samples = random.choices(\n",
    "    [True, False], weights=[prob_true_exp_st, prob_false_exp_st], k=raw_data[\"experience_st\"].isna().sum()\n",
    ")\n",
    "\n",
    "raw_data[\"experience_st\"].loc[raw_data[\"experience_st\"].isna()] = exp_st_samples\n",
    "raw_data[\"experience_st\"].value_counts().plot(kind=\"bar\")\n",
    "print(raw_data[\"experience_st\"].isna().sum())"
   ]
  },
  {
   "cell_type": "markdown",
   "id": "2b159dcd",
   "metadata": {},
   "source": [
    "GENDER:"
   ]
  },
  {
   "cell_type": "code",
   "execution_count": 1134,
   "id": "1e9d5ffe",
   "metadata": {},
   "outputs": [
    {
     "name": "stderr",
     "output_type": "stream",
     "text": [
      "/var/folders/5j/l7bq8d6913g6mmrlqytjzbbm0000gn/T/ipykernel_15036/2646667315.py:7: FutureWarning: ChainedAssignmentError: behaviour will change in pandas 3.0!\n",
      "You are setting values through chained assignment. Currently this works in certain cases, but when using Copy-on-Write (which will become the default behaviour in pandas 3.0) this will never work to update the original DataFrame or Series, because the intermediate object on which we are setting values will behave as a copy.\n",
      "A typical example is when you are setting values in a column of a DataFrame, like:\n",
      "\n",
      "df[\"col\"][row_indexer] = value\n",
      "\n",
      "Use `df.loc[row_indexer, \"col\"] = values` instead, to perform the assignment in a single step and ensure this keeps updating the original `df`.\n",
      "\n",
      "See the caveats in the documentation: https://pandas.pydata.org/pandas-docs/stable/user_guide/indexing.html#returning-a-view-versus-a-copy\n",
      "\n",
      "  raw_data[\"gender\"].loc[raw_data[\"gender\"].isna()] = gender_samples\n",
      "/var/folders/5j/l7bq8d6913g6mmrlqytjzbbm0000gn/T/ipykernel_15036/2646667315.py:7: SettingWithCopyWarning: \n",
      "A value is trying to be set on a copy of a slice from a DataFrame\n",
      "\n",
      "See the caveats in the documentation: https://pandas.pydata.org/pandas-docs/stable/user_guide/indexing.html#returning-a-view-versus-a-copy\n",
      "  raw_data[\"gender\"].loc[raw_data[\"gender\"].isna()] = gender_samples\n"
     ]
    },
    {
     "name": "stdout",
     "output_type": "stream",
     "text": [
      "0\n"
     ]
    },
    {
     "data": {
      "image/png": "[encoded data removed]",
      "text/plain": [
       "<Figure size 640x480 with 1 Axes>"
      ]
     },
     "metadata": {},
     "output_type": "display_data"
    }
   ],
   "source": [
    "prob_0 = raw_data[\"gender\"].value_counts(normalize=True).get(0, 0)\n",
    "prob_1 = raw_data[\"gender\"].value_counts(normalize=True).get(1, 0)\n",
    "prob_2 = raw_data[\"gender\"].value_counts(normalize=True).get(2, 0)\n",
    "\n",
    "gender_samples = random.choices([0, 1, 2], weights=[prob_0, prob_1, prob_2], k=raw_data[\"gender\"].isna().sum())\n",
    "\n",
    "raw_data[\"gender\"].loc[raw_data[\"gender\"].isna()] = gender_samples\n",
    "raw_data[\"gender\"].value_counts().plot(kind=\"bar\")\n",
    "print(raw_data[\"gender\"].isna().sum())"
   ]
  },
  {
   "cell_type": "markdown",
   "id": "9a7bfb88",
   "metadata": {},
   "source": [
    "Finally, change their datatype."
   ]
  },
  {
   "cell_type": "code",
   "execution_count": 1135,
   "id": "e270dad2",
   "metadata": {},
   "outputs": [
    {
     "data": {
      "text/plain": [
       "programme              object\n",
       "experience_ml            bool\n",
       "experience_ir            bool\n",
       "experience_st            bool\n",
       "experience_db            bool\n",
       "gender                   int8\n",
       "chatgpt_usage            bool\n",
       "birthday               object\n",
       "count_students         object\n",
       "stress_level           object\n",
       "hours_spend_w_sport    object\n",
       "bedtime                object\n",
       "pleasant_thing_1       object\n",
       "pleasant_thing_2       object\n",
       "dtype: object"
      ]
     },
     "execution_count": 1135,
     "metadata": {},
     "output_type": "execute_result"
    }
   ],
   "source": [
    "new_datatypes = {\n",
    "    \"experience_ml\": bool,\n",
    "    \"experience_ir\": bool,\n",
    "    \"experience_st\": bool,\n",
    "    \"experience_db\": bool,\n",
    "    \"gender\": np.int8,\n",
    "    \"chatgpt_usage\": bool,\n",
    "}\n",
    "raw_data = raw_data.astype(new_datatypes)\n",
    "\n",
    "raw_data.dtypes"
   ]
  },
  {
   "cell_type": "markdown",
   "id": "e3063dc1",
   "metadata": {},
   "source": [
    "Now treat the following columns (which are class typed str values) from the remaining ones:\n",
    "- programme\n",
    "- pleasant_thing_1\n",
    "- pleasant_thing_2"
   ]
  },
  {
   "cell_type": "markdown",
   "id": "a91f21e1",
   "metadata": {},
   "source": [
    "Lets start with the programme attribute. After the visual inspection of the data, one can distiguish various recurring formations. (As the answer was a free string, not a standardised list.)\n",
    "The logic is that even tough there are a great variety of the answers there are only a handful of options. In order to make the freely typed answer grouping more efficient the following rules are going to be applied, for the values on which the rule can't be applied, manual mapping (or worst case override to unknown) will be needed.\n",
    "The rule is the following:\n",
    "If an answer contains (regardless the small or capital form of the letter) (not complete)\n",
    "- AI, Aritifical, Intelligence -> Artificial Intelligence (token: 0)\n",
    "- CS or Computer -> Computer Science (tokes: 1)\n",
    "- CLS or Computational -> Computational Science (token: 2)\n",
    "- Finance -> Finance (token: 3)\n",
    "- Bio or Biology -> Bioinformatics (token: 4)\n",
    "- Econometrics or Business -> Econometrics (token: 5)\n"
   ]
  },
  {
   "cell_type": "code",
   "execution_count": 1136,
   "id": "7fc20141",
   "metadata": {},
   "outputs": [
    {
     "name": "stdout",
     "output_type": "stream",
     "text": [
      "12                                   npn\n",
      "39             human language technology\n",
      "50                             security \n",
      "115                            security \n",
      "119                          mathematics\n",
      "123       human language technology (rm)\n",
      "147                 big-data engineering\n",
      "152                                  eor\n",
      "160           humanities research master\n",
      "172                               master\n",
      "212                             green it\n",
      "213                                   ba\n",
      "236                big data engineering \n",
      "237    software engineering and green it\n",
      "Name: programme, dtype: object\n"
     ]
    },
    {
     "name": "stderr",
     "output_type": "stream",
     "text": [
      "/var/folders/5j/l7bq8d6913g6mmrlqytjzbbm0000gn/T/ipykernel_15036/4119765894.py:14: UserWarning: This pattern is interpreted as a regular expression, and has match groups. To actually get the groups, use str.extract.\n",
      "  not_fitting_programmes =  raw_data.loc[~raw_data[\"programme\"].str.contains(combined_mask, regex=True, na=False), \"programme\"]\n",
      "/var/folders/5j/l7bq8d6913g6mmrlqytjzbbm0000gn/T/ipykernel_15036/4119765894.py:27: UserWarning: This pattern is interpreted as a regular expression, and has match groups. To actually get the groups, use str.extract.\n",
      "  raw_data.loc[raw_data[\"programme\"].str.contains(mask, regex=True, na=False), \"programme\"] = str(idx)\n",
      "/var/folders/5j/l7bq8d6913g6mmrlqytjzbbm0000gn/T/ipykernel_15036/4119765894.py:27: UserWarning: This pattern is interpreted as a regular expression, and has match groups. To actually get the groups, use str.extract.\n",
      "  raw_data.loc[raw_data[\"programme\"].str.contains(mask, regex=True, na=False), \"programme\"] = str(idx)\n",
      "/var/folders/5j/l7bq8d6913g6mmrlqytjzbbm0000gn/T/ipykernel_15036/4119765894.py:27: UserWarning: This pattern is interpreted as a regular expression, and has match groups. To actually get the groups, use str.extract.\n",
      "  raw_data.loc[raw_data[\"programme\"].str.contains(mask, regex=True, na=False), \"programme\"] = str(idx)\n",
      "/var/folders/5j/l7bq8d6913g6mmrlqytjzbbm0000gn/T/ipykernel_15036/4119765894.py:27: UserWarning: This pattern is interpreted as a regular expression, and has match groups. To actually get the groups, use str.extract.\n",
      "  raw_data.loc[raw_data[\"programme\"].str.contains(mask, regex=True, na=False), \"programme\"] = str(idx)\n",
      "/var/folders/5j/l7bq8d6913g6mmrlqytjzbbm0000gn/T/ipykernel_15036/4119765894.py:27: UserWarning: This pattern is interpreted as a regular expression, and has match groups. To actually get the groups, use str.extract.\n",
      "  raw_data.loc[raw_data[\"programme\"].str.contains(mask, regex=True, na=False), \"programme\"] = str(idx)\n",
      "/var/folders/5j/l7bq8d6913g6mmrlqytjzbbm0000gn/T/ipykernel_15036/4119765894.py:27: UserWarning: This pattern is interpreted as a regular expression, and has match groups. To actually get the groups, use str.extract.\n",
      "  raw_data.loc[raw_data[\"programme\"].str.contains(mask, regex=True, na=False), \"programme\"] = str(idx)\n"
     ]
    }
   ],
   "source": [
    "raw_data[\"programme\"] = raw_data[\"programme\"].str.lower()\n",
    "\n",
    "combined_mask = (\n",
    "    r\"\\b(\"\n",
    "    r\"ai|artificial|intelligence|\"\n",
    "    r\"cs|computer|comp sci|\"\n",
    "    r\"cls|computational|\"\n",
    "    r\"finance|fintech|\"\n",
    "    r\"bio|biology|bioinformatics|biosb|health|biomedical|\"\n",
    "    r\"econometrics|business\"\n",
    "    r\")\\b\"\n",
    ")\n",
    "\n",
    "not_fitting_programmes = raw_data.loc[\n",
    "    ~raw_data[\"programme\"].str.contains(combined_mask, regex=True, na=False), \"programme\"\n",
    "]\n",
    "print(not_fitting_programmes)\n",
    "\n",
    "ai_mask = r\"\\b(ai|artificial|intelligence)\\b\"\n",
    "cs_mask = r\"\\b(cs|computer|comp sci)\\b\"\n",
    "cls_mask = r\"\\b(cls|computational)\\b\"\n",
    "fin_mask = r\"\\b(finance|fintech)\\b\"\n",
    "bio_mask = r\"\\b(bio|biology|bioinformatics|biosb|health|biomedical)\\b\"\n",
    "eco_mask = r\"\\b(econometrics|business)\\b\"\n",
    "\n",
    "masks = [ai_mask, cs_mask, cls_mask, fin_mask, bio_mask, eco_mask]\n",
    "\n",
    "for idx, mask in enumerate(masks):\n",
    "    raw_data.loc[raw_data[\"programme\"].str.contains(mask, regex=True, na=False), \"programme\"] = str(idx)"
   ]
  },
  {
   "cell_type": "markdown",
   "id": "a1b2722a",
   "metadata": {},
   "source": [
    "Question: should we further create IT group and put security and green it etc. there or create an \"other\" group for the rest.\n",
    "Temporary I am going create a container token: 6 for them."
   ]
  },
  {
   "cell_type": "code",
   "execution_count": 1137,
   "id": "930d971b",
   "metadata": {},
   "outputs": [
    {
     "name": "stdout",
     "output_type": "stream",
     "text": [
      "programme\n",
      "0    100\n",
      "1     44\n",
      "5     39\n",
      "4     22\n",
      "2     17\n",
      "6     14\n",
      "3      7\n",
      "Name: count, dtype: int64\n"
     ]
    },
    {
     "name": "stderr",
     "output_type": "stream",
     "text": [
      "/var/folders/5j/l7bq8d6913g6mmrlqytjzbbm0000gn/T/ipykernel_15036/1899119615.py:2: UserWarning: This pattern is interpreted as a regular expression, and has match groups. To actually get the groups, use str.extract.\n",
      "  raw_data.loc[~raw_data[\"programme\"].str.contains(temp_mask, regex=True, na=False), \"programme\"] = str(6)\n"
     ]
    }
   ],
   "source": [
    "temp_mask = r\"\\b(0|1|2|3|4|5)\\b\"\n",
    "raw_data.loc[~raw_data[\"programme\"].str.contains(temp_mask, regex=True, na=False), \"programme\"] = str(6)\n",
    "\n",
    "raw_data[\"programme\"] = raw_data[\"programme\"].astype(np.int8)\n",
    "print(raw_data[\"programme\"].value_counts(dropna=False))"
   ]
  },
  {
   "cell_type": "markdown",
   "id": "47e74274",
   "metadata": {},
   "source": [
    "Lets check the distribution of the various master programmes."
   ]
  },
  {
   "cell_type": "code",
   "execution_count": 1138,
   "id": "1c62e081",
   "metadata": {},
   "outputs": [
    {
     "data": {
      "image/png": "[encoded data removed]",
      "text/plain": [
       "<Figure size 600x600 with 1 Axes>"
      ]
     },
     "metadata": {},
     "output_type": "display_data"
    }
   ],
   "source": [
    "back_mapping = {0: \"AI\", 1: \"CS\", 2: \"CLS\", 3: \"Finance\", 4: \"Bioinformatics\", 5: \"Econometrics\", 6: \"Other\"}\n",
    "\n",
    "programmes = raw_data[\"programme\"].copy()\n",
    "programmes = programmes.map(back_mapping)\n",
    "\n",
    "plt.figure(figsize=(6, 6))\n",
    "\n",
    "plt.bar(programmes.value_counts(dropna=False).index, programmes.value_counts().values)\n",
    "plt.title(\"Master Program Distribution\")\n",
    "plt.xticks(rotation=45)\n",
    "plt.ylabel(\"#Person\")\n",
    "\n",
    "plt.show()"
   ]
  },
  {
   "cell_type": "markdown",
   "id": "483d19fb",
   "metadata": {},
   "source": [
    "Next lets clean the student counts attribute. First check how many of the sample can be simply interpreted as a number."
   ]
  },
  {
   "cell_type": "code",
   "execution_count": 1139,
   "id": "b75291dc",
   "metadata": {},
   "outputs": [
    {
     "name": "stdout",
     "output_type": "stream",
     "text": [
      "6\n"
     ]
    }
   ],
   "source": [
    "not_numeric = pd.to_numeric(raw_data[\"count_students\"], errors=\"coerce\").notna()\n",
    "print(np.sum(~np.array(not_numeric)))"
   ]
  },
  {
   "cell_type": "markdown",
   "id": "b17a1558",
   "metadata": {},
   "source": [
    "As it turned out, there are 6 values that needs to be addressed manually"
   ]
  },
  {
   "cell_type": "code",
   "execution_count": 1140,
   "id": "aa9d668c",
   "metadata": {},
   "outputs": [
    {
     "name": "stdout",
     "output_type": "stream",
     "text": [
      "28        180-200\n",
      "32         20*5*5\n",
      "116    approx 300\n",
      "132       300ish?\n",
      "137    Around 200\n",
      "149           Idk\n",
      "Name: count_students, dtype: object\n"
     ]
    }
   ],
   "source": [
    "print(raw_data.loc[~pd.to_numeric(raw_data[\"count_students\"], errors=\"coerce\").notna(), \"count_students\"])"
   ]
  },
  {
   "cell_type": "markdown",
   "id": "619f5efe",
   "metadata": {},
   "source": [
    "Lets override the ones that make sense. And replace the ones that can't be interpreted."
   ]
  },
  {
   "cell_type": "code",
   "execution_count": 1141,
   "id": "bf216894",
   "metadata": {},
   "outputs": [
    {
     "name": "stdout",
     "output_type": "stream",
     "text": [
      "1\n",
      "343.77272727272725\n",
      "0\n",
      "programme                int8\n",
      "experience_ml            bool\n",
      "experience_ir            bool\n",
      "experience_st            bool\n",
      "experience_db            bool\n",
      "gender                   int8\n",
      "chatgpt_usage            bool\n",
      "birthday               object\n",
      "count_students          int16\n",
      "stress_level           object\n",
      "hours_spend_w_sport    object\n",
      "bedtime                object\n",
      "pleasant_thing_1       object\n",
      "pleasant_thing_2       object\n",
      "dtype: object\n"
     ]
    }
   ],
   "source": [
    "raw_data.loc[28, \"count_students\"] = 190\n",
    "raw_data.loc[32, \"count_students\"] = 500\n",
    "raw_data.loc[116, \"count_students\"] = 300\n",
    "raw_data.loc[132, \"count_students\"] = 300\n",
    "raw_data.loc[137, \"count_students\"] = 200\n",
    "\n",
    "raw_data[\"count_students\"] = raw_data[\"count_students\"].apply(\n",
    "    lambda x: max(min(int(x), 600), 50) if isinstance(x, (int, float)) else x\n",
    ")\n",
    "raw_data[\"count_students\"] = pd.to_numeric(raw_data[\"count_students\"], errors=\"coerce\").astype(\"Int64\")\n",
    "\n",
    "print(raw_data[\"count_students\"].isna().sum())\n",
    "\n",
    "print(raw_data[\"count_students\"].mean())\n",
    "raw_data[\"count_students\"] = raw_data[\"count_students\"].fillna(int(raw_data[\"count_students\"].mean()))\n",
    "raw_data[\"count_students\"] = raw_data[\"count_students\"].astype(np.int16)\n",
    "print(raw_data[\"count_students\"].isna().sum())\n",
    "print(raw_data.dtypes)"
   ]
  },
  {
   "cell_type": "markdown",
   "id": "a8bdc79a",
   "metadata": {},
   "source": [
    "The same logic can be applied to the stress level and the hours spent with sport per week."
   ]
  },
  {
   "cell_type": "code",
   "execution_count": 1142,
   "id": "c93f1b72",
   "metadata": {},
   "outputs": [
    {
     "name": "stdout",
     "output_type": "stream",
     "text": [
      "4\n",
      "88     Over 9000\n",
      "115           π©\n",
      "185      Now? 22\n",
      "202          NaN\n",
      "Name: stress_level, dtype: object\n",
      "47.236224066390044\n",
      "0\n",
      "programme                 int8\n",
      "experience_ml             bool\n",
      "experience_ir             bool\n",
      "experience_st             bool\n",
      "experience_db             bool\n",
      "gender                    int8\n",
      "chatgpt_usage             bool\n",
      "birthday                object\n",
      "count_students           int16\n",
      "stress_level           float64\n",
      "hours_spend_w_sport     object\n",
      "bedtime                 object\n",
      "pleasant_thing_1        object\n",
      "pleasant_thing_2        object\n",
      "dtype: object\n"
     ]
    }
   ],
   "source": [
    "not_numeric = pd.to_numeric(raw_data[\"stress_level\"], errors=\"coerce\").notna()\n",
    "print(np.sum(~np.array(not_numeric)))\n",
    "\n",
    "print(raw_data.loc[~pd.to_numeric(raw_data[\"stress_level\"], errors=\"coerce\").notna(), \"stress_level\"])\n",
    "\n",
    "raw_data.loc[88, \"stress_level\"] = 9000\n",
    "raw_data.loc[185, \"stress_level\"] = 22\n",
    "\n",
    "raw_data[\"stress_level\"] = raw_data[\"stress_level\"].apply(\n",
    "    lambda x: max(min(float(x), 100), 0) if isinstance(x, (int, float)) else x\n",
    ")\n",
    "raw_data[\"stress_level\"] = pd.to_numeric(raw_data[\"stress_level\"], errors=\"coerce\").astype(np.float64)\n",
    "print(raw_data[\"stress_level\"].mean())\n",
    "raw_data[\"stress_level\"] = raw_data[\"stress_level\"].fillna(float(raw_data[\"stress_level\"].mean()))\n",
    "raw_data[\"stress_level\"] = raw_data[\"stress_level\"].astype(np.float64)\n",
    "print(raw_data[\"stress_level\"].isna().sum())\n",
    "print(raw_data.dtypes)"
   ]
  },
  {
   "cell_type": "code",
   "execution_count": 1143,
   "id": "0cd713cb",
   "metadata": {},
   "outputs": [
    {
     "name": "stdout",
     "output_type": "stream",
     "text": [
      "6\n",
      "28           4-5\n",
      "136           2h\n",
      "146         0😭😭😭\n",
      "150         zero\n",
      "161          3-4\n",
      "196    4.5 hours\n",
      "Name: hours_spend_w_sport, dtype: object\n",
      "0\n",
      "programme                 int8\n",
      "experience_ml             bool\n",
      "experience_ir             bool\n",
      "experience_st             bool\n",
      "experience_db             bool\n",
      "gender                    int8\n",
      "chatgpt_usage             bool\n",
      "birthday                object\n",
      "count_students           int16\n",
      "stress_level           float64\n",
      "hours_spend_w_sport    float64\n",
      "bedtime                 object\n",
      "pleasant_thing_1        object\n",
      "pleasant_thing_2        object\n",
      "dtype: object\n"
     ]
    },
    {
     "data": {
      "text/plain": [
       "<Axes: >"
      ]
     },
     "execution_count": 1143,
     "metadata": {},
     "output_type": "execute_result"
    },
    {
     "data": {
      "image/png": "[encoded data removed]",
      "text/plain": [
       "<Figure size 640x480 with 1 Axes>"
      ]
     },
     "metadata": {},
     "output_type": "display_data"
    }
   ],
   "source": [
    "not_numeric = pd.to_numeric(raw_data[\"hours_spend_w_sport\"], errors=\"coerce\").notna()\n",
    "print(np.sum(~np.array(not_numeric)))\n",
    "\n",
    "print(raw_data.loc[~pd.to_numeric(raw_data[\"hours_spend_w_sport\"], errors=\"coerce\").notna(), \"hours_spend_w_sport\"])\n",
    "\n",
    "raw_data.loc[28, \"hours_spend_w_sport\"] = 4.5\n",
    "raw_data.loc[136, \"hours_spend_w_sport\"] = 2\n",
    "raw_data.loc[146, \"hours_spend_w_sport\"] = 0\n",
    "raw_data.loc[150, \"hours_spend_w_sport\"] = 0\n",
    "raw_data.loc[161, \"hours_spend_w_sport\"] = 3.5\n",
    "raw_data.loc[196, \"hours_spend_w_sport\"] = 4.5\n",
    "\n",
    "raw_data[\"hours_spend_w_sport\"] = raw_data[\"hours_spend_w_sport\"].astype(np.float64)\n",
    "print(raw_data[\"hours_spend_w_sport\"].isna().sum())\n",
    "print(raw_data.dtypes)\n",
    "\n",
    "upper_threshold = raw_data[\"hours_spend_w_sport\"].quantile(0.99)\n",
    "lower_threshold = 0\n",
    "\n",
    "raw_data.loc[raw_data[\"hours_spend_w_sport\"] < lower_threshold, \"hours_spend_w_sport\"] = np.nan\n",
    "raw_data.loc[raw_data[\"hours_spend_w_sport\"] > upper_threshold, \"hours_spend_w_sport\"] = np.nan\n",
    "\n",
    "mean_hours_spent_w_sport = raw_data[\"hours_spend_w_sport\"].mean()\n",
    "\n",
    "raw_data[\"hours_spend_w_sport\"] = raw_data[\"hours_spend_w_sport\"].fillna(mean_hours_spent_w_sport)\n",
    "\n",
    "raw_data[\"hours_spend_w_sport\"].hist(bins=30)"
   ]
  },
  {
   "cell_type": "markdown",
   "id": "050536c8",
   "metadata": {},
   "source": [
    "Now lets clean the birthday and bedtime attributes. Starting with birthday, try to convert random formats to datetime variable."
   ]
  },
  {
   "cell_type": "code",
   "execution_count": 1144,
   "id": "8ace25ec",
   "metadata": {},
   "outputs": [
    {
     "name": "stdout",
     "output_type": "stream",
     "text": [
      "0                        1888-01-01 00:00:00\n",
      "1                        2002-01-31 00:00:00\n",
      "2                        2025-09-14 00:00:00\n",
      "3                        2003-10-17 00:00:00\n",
      "4                        2000-04-19 00:00:00\n",
      "5                                   Tomorrow\n",
      "6                        1999-10-25 00:00:00\n",
      "7                        2025-04-01 00:00:00\n",
      "8                        2001-01-29 00:00:00\n",
      "9                                   01082000\n",
      "10                       1999-10-19 00:00:00\n",
      "11                       1999-01-01 00:00:00\n",
      "12                                  01012000\n",
      "13                       2001-06-15 00:00:00\n",
      "14                       2025-04-01 00:00:00\n",
      "15                       2001-02-27 00:00:00\n",
      "16                       1982-05-10 00:00:00\n",
      "17                       1998-12-16 00:00:00\n",
      "18                       2002-06-23 00:00:00\n",
      "19                       2000-08-10 00:00:00\n",
      "20                       2003-12-30 00:00:00\n",
      "21                       2025-08-11 00:00:00\n",
      "22                                       Idk\n",
      "23                       2000-04-19 00:00:00\n",
      "24                       2003-07-19 00:00:00\n",
      "25                       2025-02-19 00:00:00\n",
      "26                       2000-05-19 00:00:00\n",
      "27                       2025-09-14 00:00:00\n",
      "28                                      1999\n",
      "29                       2001-12-11 00:00:00\n",
      "30                       1999-01-24 00:00:00\n",
      "31                               29-070-2000\n",
      "32                       2025-04-24 00:00:00\n",
      "33                       2000-06-01 00:00:00\n",
      "34                       2000-11-11 00:00:00\n",
      "35                       1997-11-05 00:00:00\n",
      "36                       2002-11-27 00:00:00\n",
      "37                       2001-07-20 00:00:00\n",
      "38                                      2000\n",
      "39                       2002-12-23 00:00:00\n",
      "40                       2002-03-16 00:00:00\n",
      "41                       2002-05-09 00:00:00\n",
      "42                       2003-05-18 00:00:00\n",
      "43                       2002-11-11 00:00:00\n",
      "44                                      2000\n",
      "45                                        26\n",
      "46                       2001-09-29 00:00:00\n",
      "47                       2002-11-21 00:00:00\n",
      "48                       2025-12-14 00:00:00\n",
      "49                       2001-09-16 00:00:00\n",
      "50                                      1997\n",
      "51                       1996-08-16 00:00:00\n",
      "52                                69.69.2069\n",
      "53                       1998-11-26 00:00:00\n",
      "54                       2025-04-23 00:00:00\n",
      "55                       2000-09-14 00:00:00\n",
      "56                                         -\n",
      "57                       2001-05-20 00:00:00\n",
      "58                       1999-12-28 00:00:00\n",
      "59                       2025-01-16 00:00:00\n",
      "60                       2025-05-23 00:00:00\n",
      "61                       1997-07-19 00:00:00\n",
      "62                       1994-12-10 00:00:00\n",
      "63                       2025-04-20 00:00:00\n",
      "64                       2002-09-30 00:00:00\n",
      "65                       1900-01-01 00:00:00\n",
      "66                                        23\n",
      "67                       2025-02-15 00:00:00\n",
      "68                       2002-03-13 00:00:00\n",
      "69                       2001-10-08 00:00:00\n",
      "70                       2001-10-21 00:00:00\n",
      "71                       1999-12-10 00:00:00\n",
      "72                       2001-06-21 00:00:00\n",
      "73                       2001-02-28 00:00:00\n",
      "74                       2002-06-28 00:00:00\n",
      "75                                  10112000\n",
      "76                                  08031998\n",
      "77                       2025-01-09 00:00:00\n",
      "78                       2025-05-28 00:00:00\n",
      "79                       2001-10-26 00:00:00\n",
      "80                       2002-07-21 00:00:00\n",
      "81                                 not today\n",
      "82                       2003-01-25 00:00:00\n",
      "83                       2025-02-13 00:00:00\n",
      "84                       2002-02-15 00:00:00\n",
      "85                       2005-04-02 00:00:00\n",
      "86                                         X\n",
      "87                       2002-03-21 00:00:00\n",
      "88                       2025-02-04 00:00:00\n",
      "89                       1998-04-12 00:00:00\n",
      "90                                         -\n",
      "91                                       Lol\n",
      "92                       2001-10-26 00:00:00\n",
      "93                       2025-10-10 00:00:00\n",
      "94                       2002-01-22 00:00:00\n",
      "95                                  20010831\n",
      "96                       2003-07-14 00:00:00\n",
      "97                       2001-01-02 00:00:00\n",
      "98                                  21052025\n",
      "99                       2025-01-05 00:00:00\n",
      "100                      2002-09-30 00:00:00\n",
      "101                                Muhahahah\n",
      "102                      1934-08-07 00:00:00\n",
      "103                      1998-08-22 00:00:00\n",
      "104                      2001-11-09 00:00:00\n",
      "105                      2001-07-26 00:00:00\n",
      "106                      2025-09-20 00:00:00\n",
      "107                                 05082000\n",
      "108                      2004-04-04 00:00:00\n",
      "109                      2004-08-20 00:00:00\n",
      "110                      2000-04-03 00:00:00\n",
      "111                      2002-10-25 00:00:00\n",
      "112                      1999-04-11 00:00:00\n",
      "113                      1991-01-27 00:00:00\n",
      "114                      2000-01-01 00:00:00\n",
      "115                      2025-09-14 00:00:00\n",
      "116                      1999-11-14 00:00:00\n",
      "117                      2025-12-25 00:00:00\n",
      "118                                     0000\n",
      "119                      1997-01-21 00:00:00\n",
      "120                      2000-01-10 00:00:00\n",
      "121                                       26\n",
      "122                      2025-04-07 23:20:01\n",
      "123                      2025-02-14 00:00:00\n",
      "124                      1999-02-14 00:00:00\n",
      "125                      2001-04-26 00:00:00\n",
      "126                      2000-08-14 00:00:00\n",
      "127                      2025-10-06 00:00:00\n",
      "128                      2003-09-02 00:00:00\n",
      "129                      2002-02-24 00:00:00\n",
      "130                      2001-07-23 00:00:00\n",
      "131                              undisclosed\n",
      "132                      1999-01-31 00:00:00\n",
      "133                      1921-12-12 00:00:00\n",
      "134                      2025-12-05 00:00:00\n",
      "135                      2025-02-23 00:00:00\n",
      "136                                   nonono\n",
      "137                      2002-09-20 00:00:00\n",
      "138                      2001-10-03 00:00:00\n",
      "139                      2000-10-09 00:00:00\n",
      "140                      2001-01-11 00:00:00\n",
      "141                      2025-06-11 00:00:00\n",
      "142                      2025-11-24 00:00:00\n",
      "143                      2001-11-16 00:00:00\n",
      "144                      1999-02-16 00:00:00\n",
      "145                      2025-01-13 00:00:00\n",
      "146                      2002-06-28 00:00:00\n",
      "147                      2025-04-20 00:00:00\n",
      "148                      2002-04-29 00:00:00\n",
      "149                      2003-01-02 00:00:00\n",
      "150    de vijftiende dag van de vierde maand\n",
      "151                               00-00-0000\n",
      "152                      2001-01-23 00:00:00\n",
      "153                      2000-05-13 00:00:00\n",
      "154                      2025-04-09 00:00:00\n",
      "155                      2025-12-14 00:00:00\n",
      "156                      2025-07-10 00:00:00\n",
      "157                      2001-01-03 00:00:00\n",
      "158                      2025-04-03 00:00:00\n",
      "159                      1997-02-07 00:00:00\n",
      "160                      2025-12-14 00:00:00\n",
      "161                      2002-07-20 00:00:00\n",
      "162                      2025-09-01 00:00:00\n",
      "163                      2000-01-03 00:00:00\n",
      "164                      2001-03-05 00:00:00\n",
      "165                      2002-09-11 00:00:00\n",
      "166                      2025-12-27 00:00:00\n",
      "167                      2000-11-18 00:00:00\n",
      "168                                      NaN\n",
      "169                         17 augustus 2001\n",
      "170                      2003-12-13 00:00:00\n",
      "171                      2000-08-15 00:00:00\n",
      "172                      2069-09-06 00:00:00\n",
      "173                      2003-10-04 00:00:00\n",
      "174                      2002-01-18 00:00:00\n",
      "175                      2001-02-18 00:00:00\n",
      "176                      2003-06-25 00:00:00\n",
      "177                      2000-08-25 00:00:00\n",
      "178                      2000-12-23 00:00:00\n",
      "179                      2000-01-30 00:00:00\n",
      "180                      2002-01-20 00:00:00\n",
      "181                                       23\n",
      "182                      1998-01-01 00:00:00\n",
      "183                      2001-12-08 00:00:00\n",
      "184                      2025-09-05 00:00:00\n",
      "185                      2003-07-14 00:00:00\n",
      "186                      2002-08-11 00:00:00\n",
      "187                      2025-09-29 00:00:00\n",
      "188                      2002-05-05 00:00:00\n",
      "189                      2001-10-04 00:00:00\n",
      "190                                       28\n",
      "191                      2001-10-04 00:00:00\n",
      "192                      2001-07-13 00:00:00\n",
      "193                                       13\n",
      "194                      2025-01-19 00:00:00\n",
      "195                      2003-01-03 00:00:00\n",
      "196                      2002-10-09 00:00:00\n",
      "197                      2000-08-28 00:00:00\n",
      "198                      2003-11-14 00:00:00\n",
      "199                      2025-10-14 00:00:00\n",
      "200                      2025-06-14 00:00:00\n",
      "201                      2025-07-13 00:00:00\n",
      "202                      2000-01-01 00:00:00\n",
      "203                          When I was born\n",
      "204                      2002-05-18 00:00:00\n",
      "205                      2001-01-10 00:00:00\n",
      "206                      2000-12-07 00:00:00\n",
      "207                      2003-08-19 00:00:00\n",
      "208                      2003-10-02 00:00:00\n",
      "209                      2025-04-09 00:00:00\n",
      "210                      2003-03-02 00:00:00\n",
      "211                      2025-06-16 00:00:00\n",
      "212                      2025-07-09 00:00:00\n",
      "213                      2000-10-22 00:00:00\n",
      "214                      2002-10-01 00:00:00\n",
      "215                      2000-07-22 00:00:00\n",
      "216                      2025-11-26 00:00:00\n",
      "217                      2001-01-01 00:00:00\n",
      "218                      2000-04-19 00:00:00\n",
      "219                      2001-11-12 00:00:00\n",
      "220                      1999-01-21 00:00:00\n",
      "221                             16 juni 2001\n",
      "222                      2025-02-22 00:00:00\n",
      "223                      2000-01-01 00:00:00\n",
      "224                      1999-10-08 00:00:00\n",
      "225                      2003-09-22 00:00:00\n",
      "226                      2003-12-02 00:00:00\n",
      "227                      2002-11-19 00:00:00\n",
      "228                                   24.01.\n",
      "229                      2002-10-07 00:00:00\n",
      "230                      2002-10-10 00:00:00\n",
      "231                      1992-02-17 00:00:00\n",
      "232                      2000-01-20 00:00:00\n",
      "233                      2025-04-08 00:00:00\n",
      "234                      2003-06-05 00:00:00\n",
      "235                      2000-02-20 00:00:00\n",
      "236                                        /\n",
      "237                      2001-09-05 00:00:00\n",
      "238                                     2003\n",
      "239                      2002-08-30 00:00:00\n",
      "240                      2003-01-09 00:00:00\n",
      "241                      2002-08-27 00:00:00\n",
      "242                      2001-05-02 00:00:00\n",
      "Name: birthday, dtype: object\n",
      "1\n"
     ]
    }
   ],
   "source": [
    "def convert_time_to_datetime(x):\n",
    "    try:\n",
    "        return parse(x, dayfirst=True, fuzzy=True)\n",
    "    except:\n",
    "        return x\n",
    "\n",
    "\n",
    "raw_data[\"birthday\"] = raw_data[\"birthday\"].apply(convert_time_to_datetime)\n",
    "print(raw_data[\"birthday\"])\n",
    "print(raw_data[\"birthday\"].isna().sum())"
   ]
  },
  {
   "cell_type": "markdown",
   "id": "47c39491",
   "metadata": {},
   "source": [
    "Check the values that couldn't be converted automatically."
   ]
  },
  {
   "cell_type": "code",
   "execution_count": 1145,
   "id": "cd9858b1",
   "metadata": {},
   "outputs": [
    {
     "name": "stdout",
     "output_type": "stream",
     "text": [
      "5     NaT\n",
      "22    NaT\n",
      "52    NaT\n",
      "56    NaT\n",
      "81    NaT\n",
      "86    NaT\n",
      "90    NaT\n",
      "91    NaT\n",
      "101   NaT\n",
      "118   NaT\n",
      "131   NaT\n",
      "136   NaT\n",
      "150   NaT\n",
      "151   NaT\n",
      "168   NaT\n",
      "203   NaT\n",
      "236   NaT\n",
      "Name: birthday, dtype: datetime64[ns]\n"
     ]
    },
    {
     "name": "stderr",
     "output_type": "stream",
     "text": [
      "/var/folders/5j/l7bq8d6913g6mmrlqytjzbbm0000gn/T/ipykernel_15036/3650299004.py:17: UserWarning: Parsing dates in %d-%m-%Y format when dayfirst=False (the default) was specified. Pass `dayfirst=True` or specify a format to silence this warning.\n",
      "  threshold_date_upper = pd.to_datetime(\"31-12-2004\")\n"
     ]
    },
    {
     "data": {
      "text/plain": [
       "<Axes: xlabel='birthday'>"
      ]
     },
     "execution_count": 1145,
     "metadata": {},
     "output_type": "execute_result"
    },
    {
     "data": {
      "image/png": "[encoded data removed]",
      "text/plain": [
       "<Figure size 640x480 with 1 Axes>"
      ]
     },
     "metadata": {},
     "output_type": "display_data"
    }
   ],
   "source": [
    "# print(raw_data.loc[~pd.to_datetime(raw_data[\"birthday\"], errors=\"coerce\").notna(), \"birthday\"])\n",
    "\n",
    "raw_data.loc[9, \"birthday\"] = \"01-08-2000\"\n",
    "raw_data.loc[12, \"birthday\"] = \"01-01-2000\"\n",
    "raw_data.loc[31, \"birthday\"] = \"29-07-2000\"\n",
    "raw_data.loc[76, \"birthday\"] = \"08-03-1998\"\n",
    "raw_data.loc[107, \"birthday\"] = \"05-08-2000\"\n",
    "raw_data.loc[169, \"birthday\"] = \"17-08-2001\"\n",
    "raw_data.loc[221, \"birthday\"] = \"16-06-2001\"\n",
    "raw_data.loc[228, \"birthday\"] = \"24-01\"\n",
    "\n",
    "raw_data[\"birthday\"] = pd.to_datetime(raw_data[\"birthday\"].apply(convert_time_to_datetime), errors=\"coerce\")\n",
    "\n",
    "print(raw_data.loc[~pd.to_datetime(raw_data[\"birthday\"], errors=\"coerce\").notna(), \"birthday\"])\n",
    "\n",
    "threshold_date_lower = pd.to_datetime(\"01-01-1980\")\n",
    "threshold_date_upper = pd.to_datetime(\"31-12-2004\")\n",
    "\n",
    "raw_data.loc[raw_data[\"birthday\"] < threshold_date_lower, \"birthday\"] = np.nan\n",
    "raw_data.loc[raw_data[\"birthday\"] > threshold_date_upper, \"birthday\"] = np.nan\n",
    "\n",
    "mean_birthday = raw_data[\"birthday\"].dropna().astype(np.int64).mean()\n",
    "mean_birthday = pd.to_datetime(mean_birthday)\n",
    "raw_data[\"birthday\"] = raw_data[\"birthday\"].fillna(mean_birthday)\n",
    "raw_data[\"birthday\"] = raw_data[\"birthday\"].dt.year\n",
    "\n",
    "raw_data[\"birthday\"] = raw_data[\"birthday\"].astype(np.int16)\n",
    "\n",
    "# print(raw_data[\"birthday\"].isna().sum())\n",
    "# print(raw_data[\"birthday\"].head())\n",
    "raw_data[\"birthday\"].value_counts().plot(kind=\"bar\")"
   ]
  },
  {
   "cell_type": "markdown",
   "id": "b365b9f6",
   "metadata": {},
   "source": [
    "Now the same process can be done for bed time."
   ]
  },
  {
   "cell_type": "code",
   "execution_count": 1146,
   "id": "138d40fa",
   "metadata": {},
   "outputs": [
    {
     "name": "stdout",
     "output_type": "stream",
     "text": [
      "0\n",
      "17\n",
      "00:32\n",
      "00:32\n",
      "0\n"
     ]
    }
   ],
   "source": [
    "# raw_data[\"bedtime\"] = raw_data[\"bedtime\"].apply(convert_time_to_datetime)\n",
    "# print(np.sum(np.array(~pd.to_datetime(raw_data[\"bedtime\"], errors=\"coerce\").notna())))\n",
    "# print(raw_data.loc[~pd.to_datetime(raw_data[\"bedtime\"], errors=\"coerce\").notna(), \"bedtime\"])\n",
    "\n",
    "raw_data.loc[9, \"bedtime\"] = \"00:00\"\n",
    "raw_data.loc[26, \"bedtime\"] = \"00:30\"\n",
    "raw_data.loc[54, \"bedtime\"] = \"23:00\"\n",
    "raw_data.loc[58, \"bedtime\"] = \"00:30\"\n",
    "raw_data.loc[114, \"bedtime\"] = \"00:00\"\n",
    "raw_data.loc[150, \"bedtime\"] = \"00:00\"\n",
    "raw_data.loc[152, \"bedtime\"] = \"23:30\"\n",
    "raw_data.loc[196, \"bedtime\"] = \"00:15\"\n",
    "\n",
    "raw_data[\"bedtime\"] = raw_data[\"bedtime\"].apply(convert_time_to_datetime)\n",
    "print(np.sum(np.array(~pd.to_datetime(raw_data[\"bedtime\"], errors=\"coerce\").notna())))\n",
    "raw_data[\"bedtime\"] = pd.to_datetime(raw_data[\"bedtime\"], errors=\"coerce\")\n",
    "\n",
    "raw_data[\"bedtime\"] = raw_data[\"bedtime\"].where(\n",
    "    (raw_data[\"bedtime\"].dt.hour >= 20) | (raw_data[\"bedtime\"].dt.hour <= 5), np.nan\n",
    ")\n",
    "\n",
    "print(raw_data[\"bedtime\"].isna().sum())\n",
    "\n",
    "valid_times = raw_data[\"bedtime\"].dropna()\n",
    "minutes = valid_times.dt.hour * 60 + valid_times.dt.minute\n",
    "angles = 2 * np.pi * minutes / (24 * 60)\n",
    "mean_angle = np.arctan2(np.sin(angles).mean(), np.cos(angles).mean())\n",
    "mean_minutes = (mean_angle % (2 * np.pi)) * (24 * 60) / (2 * np.pi)\n",
    "mean_hour = int(mean_minutes // 60)\n",
    "mean_minute = int(round(mean_minutes % 60))\n",
    "\n",
    "mean_time = f\"{mean_hour}:{mean_minute}\".zfill(5)\n",
    "print(mean_time)\n",
    "\n",
    "print(mean_time)\n",
    "raw_data[\"bedtime\"] = raw_data[\"bedtime\"].fillna(mean_time)\n",
    "raw_data[\"bedtime\"] = pd.to_datetime(raw_data[\"bedtime\"], errors=\"coerce\")\n",
    "\n",
    "print(raw_data[\"bedtime\"].isna().sum())"
   ]
  },
  {
   "cell_type": "markdown",
   "id": "edb37ba9",
   "metadata": {},
   "source": [
    "Convert the bedtime into the minutes passed since 8 pm."
   ]
  },
  {
   "cell_type": "code",
   "execution_count": 1147,
   "id": "b2eced13",
   "metadata": {},
   "outputs": [
    {
     "name": "stdout",
     "output_type": "stream",
     "text": [
      "0      240\n",
      "1      272\n",
      "2      270\n",
      "3      180\n",
      "4      240\n",
      "5      540\n",
      "6      272\n",
      "7      240\n",
      "8      272\n",
      "9      240\n",
      "10     180\n",
      "11     240\n",
      "12     225\n",
      "13     272\n",
      "14     240\n",
      "15     360\n",
      "16     240\n",
      "17     240\n",
      "18     196\n",
      "19     240\n",
      "20     300\n",
      "21     240\n",
      "22     300\n",
      "23     272\n",
      "24     210\n",
      "25     270\n",
      "26     270\n",
      "27     240\n",
      "28     300\n",
      "29     240\n",
      "30     272\n",
      "31     237\n",
      "32     540\n",
      "33     240\n",
      "34     210\n",
      "35     480\n",
      "36     150\n",
      "37     285\n",
      "38     270\n",
      "39     330\n",
      "40     270\n",
      "41     210\n",
      "42     240\n",
      "43     220\n",
      "44     240\n",
      "45     360\n",
      "46     300\n",
      "47     360\n",
      "48     239\n",
      "49     240\n",
      "50     240\n",
      "51     300\n",
      "52     480\n",
      "53     360\n",
      "54     180\n",
      "55     240\n",
      "56     480\n",
      "57     240\n",
      "58     270\n",
      "59     240\n",
      "60     300\n",
      "61     300\n",
      "62     272\n",
      "63     210\n",
      "64     240\n",
      "65     240\n",
      "66     240\n",
      "67     270\n",
      "68     180\n",
      "69     240\n",
      "70     270\n",
      "71     180\n",
      "72     180\n",
      "73     240\n",
      "74     272\n",
      "75     240\n",
      "76     180\n",
      "77     235\n",
      "78     225\n",
      "79     360\n",
      "80     330\n",
      "81     270\n",
      "82     240\n",
      "83     300\n",
      "84     240\n",
      "85     272\n",
      "86     240\n",
      "87     210\n",
      "88     540\n",
      "89     240\n",
      "90     360\n",
      "91     280\n",
      "92     330\n",
      "93     272\n",
      "94     272\n",
      "95     300\n",
      "96     330\n",
      "97     205\n",
      "98     105\n",
      "99     180\n",
      "100    180\n",
      "101    270\n",
      "102    180\n",
      "103    210\n",
      "104    272\n",
      "105    213\n",
      "106    240\n",
      "107    240\n",
      "108    180\n",
      "109    160\n",
      "110    180\n",
      "111    270\n",
      "112    480\n",
      "113    300\n",
      "114    240\n",
      "115    420\n",
      "116    180\n",
      "117    210\n",
      "118    420\n",
      "119    420\n",
      "120    323\n",
      "121    240\n",
      "122    240\n",
      "123    330\n",
      "124    240\n",
      "125    210\n",
      "126    271\n",
      "127    360\n",
      "128    280\n",
      "129    270\n",
      "130    240\n",
      "131    474\n",
      "132    420\n",
      "133    240\n",
      "134    180\n",
      "135    360\n",
      "136    480\n",
      "137    210\n",
      "138    240\n",
      "139    540\n",
      "140    210\n",
      "141    330\n",
      "142    120\n",
      "143    270\n",
      "144    540\n",
      "145    120\n",
      "146    272\n",
      "147    240\n",
      "148    210\n",
      "149    210\n",
      "150    240\n",
      "151    150\n",
      "152    210\n",
      "153    270\n",
      "154    300\n",
      "155    300\n",
      "156    300\n",
      "157    240\n",
      "158    240\n",
      "159    240\n",
      "160    360\n",
      "161    180\n",
      "162    360\n",
      "163    180\n",
      "164    150\n",
      "165    150\n",
      "166    300\n",
      "167    240\n",
      "168    420\n",
      "169    330\n",
      "170    270\n",
      "171    420\n",
      "172    240\n",
      "173    240\n",
      "174    210\n",
      "175    420\n",
      "176    180\n",
      "177    240\n",
      "178    300\n",
      "179    240\n",
      "180    150\n",
      "181    272\n",
      "182    180\n",
      "183    360\n",
      "184    360\n",
      "185    360\n",
      "186    303\n",
      "187    210\n",
      "188    250\n",
      "189    337\n",
      "190    120\n",
      "191    240\n",
      "192    272\n",
      "193    240\n",
      "194    270\n",
      "195    180\n",
      "196    255\n",
      "197    270\n",
      "198    210\n",
      "199    330\n",
      "200    272\n",
      "201    540\n",
      "202    420\n",
      "203    300\n",
      "204    210\n",
      "205    273\n",
      "206    150\n",
      "207    210\n",
      "208    255\n",
      "209    330\n",
      "210    300\n",
      "211    240\n",
      "212    510\n",
      "213    540\n",
      "214    360\n",
      "215    225\n",
      "216    165\n",
      "217    480\n",
      "218    300\n",
      "219    300\n",
      "220    272\n",
      "221    195\n",
      "222    360\n",
      "223    270\n",
      "224    375\n",
      "225    300\n",
      "226    240\n",
      "227    240\n",
      "228    250\n",
      "229    270\n",
      "230    240\n",
      "231    240\n",
      "232    180\n",
      "233     90\n",
      "234    210\n",
      "235    240\n",
      "236    300\n",
      "237    294\n",
      "238    480\n",
      "239    330\n",
      "240    360\n",
      "241    240\n",
      "242    360\n",
      "Name: bedtime, dtype: int64\n"
     ]
    },
    {
     "data": {
      "text/plain": [
       "<Axes: >"
      ]
     },
     "execution_count": 1147,
     "metadata": {},
     "output_type": "execute_result"
    },
    {
     "data": {
      "image/png": "[encoded data removed]",
      "text/plain": [
       "<Figure size 640x480 with 1 Axes>"
      ]
     },
     "metadata": {},
     "output_type": "display_data"
    }
   ],
   "source": [
    "def convert_minutes_passed_since_8(x):\n",
    "    if x.hour < 20:\n",
    "        return 4 * 60 + x.hour * 60 + x.minute\n",
    "    return x.hour * 60 + x.minute - 20 * 60\n",
    "\n",
    "\n",
    "raw_data[\"bedtime\"] = raw_data[\"bedtime\"].apply(convert_minutes_passed_since_8)\n",
    "print(raw_data[\"bedtime\"])\n",
    "\n",
    "raw_data[\"bedtime\"] = raw_data[\"bedtime\"].astype(np.int16)\n",
    "\n",
    "raw_data[\"bedtime\"].hist(bins=30)"
   ]
  },
  {
   "cell_type": "markdown",
   "id": "8b67a334",
   "metadata": {},
   "source": [
    "Finally, lets create categories for the 'pleasant_thing_1' attribute:"
   ]
  },
  {
   "cell_type": "code",
   "execution_count": 1148,
   "id": "2c97cce4",
   "metadata": {},
   "outputs": [
    {
     "name": "stdout",
     "output_type": "stream",
     "text": [
      "Items not matching any category:\n",
      "2                                        zonnetje\n",
      "4                                               -\n",
      "21                                               \n",
      "47                                   ajax winning\n",
      "52                                          happy\n",
      "54                                     az winning\n",
      "58                        praying 5 times on time\n",
      "62                                     a good day\n",
      "69                                     happiness \n",
      "70                      doing things i want to do\n",
      "85                      not having looking for x \n",
      "94                                            NaN\n",
      "99                                  feeling good \n",
      "104                                         money\n",
      "112                     i take the adhd medicine \n",
      "119                                        you :)\n",
      "124                                         peace\n",
      "131                                      grounded\n",
      "133                                         money\n",
      "140                           waking up refreshed\n",
      "144                                           fun\n",
      "145                       reaching my calory goal\n",
      "147                                    low stress\n",
      "174                                             -\n",
      "175                                     “rm -r .”\n",
      "188                 that i feel content and happy\n",
      "202                                             🤔\n",
      "220                                 peace of mind\n",
      "222    finding a big bag of money (never happens)\n",
      "236                                         music\n",
      "Name: pleasant_thing_1, dtype: object\n"
     ]
    },
    {
     "data": {
      "image/png": "[encoded data removed]",
      "text/plain": [
       "<Figure size 640x480 with 1 Axes>"
      ]
     },
     "metadata": {},
     "output_type": "display_data"
    }
   ],
   "source": [
    "raw_data[\"pleasant_thing_1\"] = raw_data[\"pleasant_thing_1\"].str.lower()\n",
    "\n",
    "# Define masks for each category\n",
    "food_mask = r\"food|chocolate|pizza|coffee|bubble tea|beer|meal|delicious|burrata|eating|breakfast|cola|banana|baking|alcohol|potato\"\n",
    "nature_mask = r\"sun|sunny|sunshine|weather|rain|outside|warm|mild|nature|outdoors\"\n",
    "social_mask = r\"friend|friends|hanging|boyfriend|socializing|people|smile|love|cats|doggo|buddies|gezelligheid|boardgames|family|mama|spending time with|socialising|good talks\"\n",
    "activity_mask = r\"sport|gym|yoga|workout|running|exercise|dance|reading|motorcycle|videogames|snorkeling|travel|routine|sleeping|sleep|sex|fieldtrip|hockey|free time|energized|booking tickets|go out|cooking\"\n",
    "academic_mask = r\"work|productivity|passing|courses|grades|grade|studying|assignments|lectures|exams|achievements|class|deadlines|achivements|productive\"\n",
    "lazy_mask = r\"not having edda exam|drugs|nothing|no school|weed|no responsibilities|not going to uni|brazzers|no course|not having to wake up early|not wake up tired\"\n",
    "\n",
    "# Create a new column to store the categories\n",
    "raw_data[\"category\"] = \"other\"  # Default category\n",
    "\n",
    "# Apply each mask in order\n",
    "raw_data.loc[raw_data[\"pleasant_thing_1\"].str.contains(food_mask, regex=True, na=False), \"category\"] = \"0\"\n",
    "raw_data.loc[raw_data[\"pleasant_thing_1\"].str.contains(nature_mask, regex=True, na=False), \"category\"] = \"1\"\n",
    "raw_data.loc[raw_data[\"pleasant_thing_1\"].str.contains(social_mask, regex=True, na=False), \"category\"] = \"2\"\n",
    "raw_data.loc[raw_data[\"pleasant_thing_1\"].str.contains(activity_mask, regex=True, na=False), \"category\"] = \"3\"\n",
    "raw_data.loc[raw_data[\"pleasant_thing_1\"].str.contains(academic_mask, regex=True, na=False), \"category\"] = \"4\"\n",
    "raw_data.loc[raw_data[\"pleasant_thing_1\"].str.contains(lazy_mask, regex=True, na=False), \"category\"] = \"5\"\n",
    "\n",
    "# Items that don't fit any category\n",
    "not_fitting_items = raw_data.loc[raw_data[\"category\"] == \"other\", \"pleasant_thing_1\"]\n",
    "print(\"Items not matching any category:\")\n",
    "print(not_fitting_items)\n",
    "\n",
    "# Plot the distribution\n",
    "raw_data[\"category\"].value_counts().plot(kind=\"bar\")\n",
    "\n",
    "raw_data.loc[raw_data[\"category\"] == \"other\", \"category\"] = \"6\"\n",
    "raw_data[\"pleasant_thing_1\"] = raw_data[\"category\"]\n",
    "raw_data.drop(\"category\", axis=1, inplace=True)\n",
    "raw_data[\"pleasant_thing_1\"] = raw_data[\"pleasant_thing_1\"].astype(np.int8)"
   ]
  },
  {
   "cell_type": "markdown",
   "id": "32da7e90",
   "metadata": {},
   "source": [
    "Finally check the columns, their distribution and the datatypes."
   ]
  },
  {
   "cell_type": "code",
   "execution_count": 1149,
   "id": "e8044e35",
   "metadata": {},
   "outputs": [
    {
     "name": "stdout",
     "output_type": "stream",
     "text": [
      "programme                 int8\n",
      "experience_ml             bool\n",
      "experience_ir             bool\n",
      "experience_st             bool\n",
      "experience_db             bool\n",
      "gender                    int8\n",
      "chatgpt_usage             bool\n",
      "birthday                 int16\n",
      "count_students           int16\n",
      "stress_level           float64\n",
      "hours_spend_w_sport    float64\n",
      "bedtime                  int16\n",
      "pleasant_thing_1          int8\n",
      "pleasant_thing_2        object\n",
      "dtype: object\n"
     ]
    }
   ],
   "source": [
    "print(raw_data.dtypes)"
   ]
  },
  {
   "cell_type": "code",
   "execution_count": 1150,
   "id": "7a5d7451",
   "metadata": {},
   "outputs": [
    {
     "data": {
      "text/plain": [
       "Text(0.5, 1.0, 'Programme')"
      ]
     },
     "execution_count": 1150,
     "metadata": {},
     "output_type": "execute_result"
    },
    {
     "data": {
      "image/png": "[encoded data removed]",
      "text/plain": [
       "<Figure size 640x480 with 1 Axes>"
      ]
     },
     "metadata": {},
     "output_type": "display_data"
    }
   ],
   "source": [
    "raw_data[\"programme\"].value_counts().plot(kind=\"bar\").set_title(\"Programme\")"
   ]
  },
  {
   "cell_type": "code",
   "execution_count": 1151,
   "id": "f787cbb7",
   "metadata": {},
   "outputs": [
    {
     "data": {
      "text/plain": [
       "Text(0.5, 1.0, 'Experience ML')"
      ]
     },
     "execution_count": 1151,
     "metadata": {},
     "output_type": "execute_result"
    },
    {
     "data": {
      "image/png": "[encoded data removed]",
      "text/plain": [
       "<Figure size 640x480 with 1 Axes>"
      ]
     },
     "metadata": {},
     "output_type": "display_data"
    }
   ],
   "source": [
    "raw_data[\"experience_ml\"].value_counts().plot(kind=\"bar\").set_title(\"Experience ML\")"
   ]
  },
  {
   "cell_type": "code",
   "execution_count": 1152,
   "id": "071b8253",
   "metadata": {},
   "outputs": [
    {
     "data": {
      "text/plain": [
       "Text(0.5, 1.0, 'Experience IR')"
      ]
     },
     "execution_count": 1152,
     "metadata": {},
     "output_type": "execute_result"
    },
    {
     "data": {
      "image/png": "[encoded data removed]",
      "text/plain": [
       "<Figure size 640x480 with 1 Axes>"
      ]
     },
     "metadata": {},
     "output_type": "display_data"
    }
   ],
   "source": [
    "raw_data[\"experience_ir\"].value_counts().plot(kind=\"bar\").set_title(\"Experience IR\")"
   ]
  },
  {
   "cell_type": "code",
   "execution_count": 1153,
   "id": "f0813083",
   "metadata": {},
   "outputs": [
    {
     "data": {
      "text/plain": [
       "Text(0.5, 1.0, 'Experience DB')"
      ]
     },
     "execution_count": 1153,
     "metadata": {},
     "output_type": "execute_result"
    },
    {
     "data": {
      "image/png": "[encoded data removed]",
      "text/plain": [
       "<Figure size 640x480 with 1 Axes>"
      ]
     },
     "metadata": {},
     "output_type": "display_data"
    }
   ],
   "source": [
    "raw_data[\"experience_db\"].value_counts().plot(kind=\"bar\").set_title(\"Experience DB\")"
   ]
  },
  {
   "cell_type": "code",
   "execution_count": 1154,
   "id": "1bda80a8",
   "metadata": {},
   "outputs": [
    {
     "data": {
      "text/plain": [
       "Text(0.5, 1.0, 'Experience ST')"
      ]
     },
     "execution_count": 1154,
     "metadata": {},
     "output_type": "execute_result"
    },
    {
     "data": {
      "image/png": "[encoded data removed]",
      "text/plain": [
       "<Figure size 640x480 with 1 Axes>"
      ]
     },
     "metadata": {},
     "output_type": "display_data"
    }
   ],
   "source": [
    "raw_data[\"experience_st\"].value_counts().plot(kind=\"bar\").set_title(\"Experience ST\")"
   ]
  },
  {
   "cell_type": "code",
   "execution_count": 1155,
   "id": "f57bf1bd",
   "metadata": {},
   "outputs": [
    {
     "data": {
      "text/plain": [
       "Text(0.5, 1.0, 'Gender')"
      ]
     },
     "execution_count": 1155,
     "metadata": {},
     "output_type": "execute_result"
    },
    {
     "data": {
      "image/png": "[encoded data removed]",
      "text/plain": [
       "<Figure size 640x480 with 1 Axes>"
      ]
     },
     "metadata": {},
     "output_type": "display_data"
    }
   ],
   "source": [
    "raw_data[\"gender\"].value_counts().plot(kind=\"bar\").set_title(\"Gender\")"
   ]
  },
  {
   "cell_type": "code",
   "execution_count": 1156,
   "id": "18887268",
   "metadata": {},
   "outputs": [
    {
     "data": {
      "text/plain": [
       "Text(0.5, 1.0, 'ChatGPT Usage')"
      ]
     },
     "execution_count": 1156,
     "metadata": {},
     "output_type": "execute_result"
    },
    {
     "data": {
      "image/png": "[encoded data removed]",
      "text/plain": [
       "<Figure size 640x480 with 1 Axes>"
      ]
     },
     "metadata": {},
     "output_type": "display_data"
    }
   ],
   "source": [
    "raw_data[\"chatgpt_usage\"].value_counts().plot(kind=\"bar\").set_title(\"ChatGPT Usage\")"
   ]
  },
  {
   "cell_type": "code",
   "execution_count": 1157,
   "id": "260af3b6",
   "metadata": {},
   "outputs": [
    {
     "data": {
      "text/plain": [
       "Text(0.5, 1.0, 'Birthday')"
      ]
     },
     "execution_count": 1157,
     "metadata": {},
     "output_type": "execute_result"
    },
    {
     "data": {
      "image/png": "[encoded data removed]",
      "text/plain": [
       "<Figure size 640x480 with 1 Axes>"
      ]
     },
     "metadata": {},
     "output_type": "display_data"
    }
   ],
   "source": [
    "raw_data[\"birthday\"].value_counts().plot(kind=\"bar\").set_title(\"Birthday\")"
   ]
  },
  {
   "cell_type": "code",
   "execution_count": 1158,
   "id": "736ecf25",
   "metadata": {},
   "outputs": [
    {
     "data": {
      "text/plain": [
       "Text(0.5, 1.0, 'Student Count')"
      ]
     },
     "execution_count": 1158,
     "metadata": {},
     "output_type": "execute_result"
    },
    {
     "data": {
      "image/png": "[encoded data removed]",
      "text/plain": [
       "<Figure size 640x480 with 1 Axes>"
      ]
     },
     "metadata": {},
     "output_type": "display_data"
    }
   ],
   "source": [
    "raw_data[\"count_students\"].hist(bins=30).set_title(\"Student Count\")"
   ]
  },
  {
   "cell_type": "code",
   "execution_count": 1159,
   "id": "100fd14d",
   "metadata": {},
   "outputs": [
    {
     "data": {
      "text/plain": [
       "Text(0.5, 1.0, 'Stress Level')"
      ]
     },
     "execution_count": 1159,
     "metadata": {},
     "output_type": "execute_result"
    },
    {
     "data": {
      "image/png": "[encoded data removed]",
      "text/plain": [
       "<Figure size 640x480 with 1 Axes>"
      ]
     },
     "metadata": {},
     "output_type": "display_data"
    }
   ],
   "source": [
    "raw_data[\"stress_level\"].hist(bins=30).set_title(\"Stress Level\")"
   ]
  },
  {
   "cell_type": "code",
   "execution_count": 1160,
   "id": "43f2abd4",
   "metadata": {},
   "outputs": [
    {
     "data": {
      "text/plain": [
       "Text(0.5, 1.0, 'Hours Spent with Sport per Week')"
      ]
     },
     "execution_count": 1160,
     "metadata": {},
     "output_type": "execute_result"
    },
    {
     "data": {
      "image/png": "[encoded data removed]",
      "text/plain": [
       "<Figure size 640x480 with 1 Axes>"
      ]
     },
     "metadata": {},
     "output_type": "display_data"
    }
   ],
   "source": [
    "raw_data[\"hours_spend_w_sport\"].hist(bins=30).set_title(\"Hours Spent with Sport per Week\")"
   ]
  },
  {
   "cell_type": "code",
   "execution_count": 1161,
   "id": "d6d44b3a",
   "metadata": {},
   "outputs": [
    {
     "data": {
      "text/plain": [
       "Text(0.5, 1.0, 'Bedtime')"
      ]
     },
     "execution_count": 1161,
     "metadata": {},
     "output_type": "execute_result"
    },
    {
     "data": {
      "image/png": "[encoded data removed]",
      "text/plain": [
       "<Figure size 640x480 with 1 Axes>"
      ]
     },
     "metadata": {},
     "output_type": "display_data"
    }
   ],
   "source": [
    "raw_data[\"bedtime\"].hist(bins=30).set_title(\"Bedtime\")"
   ]
  },
  {
   "cell_type": "code",
   "execution_count": 1162,
   "id": "393b4357",
   "metadata": {},
   "outputs": [
    {
     "data": {
      "text/plain": [
       "Text(0.5, 1.0, 'Pleasant Thing 1')"
      ]
     },
     "execution_count": 1162,
     "metadata": {},
     "output_type": "execute_result"
    },
    {
     "data": {
      "image/png": "[encoded data removed]",
      "text/plain": [
       "<Figure size 640x480 with 1 Axes>"
      ]
     },
     "metadata": {},
     "output_type": "display_data"
    }
   ],
   "source": [
    "raw_data[\"pleasant_thing_1\"].value_counts().plot(kind=\"bar\").set_title(\"Pleasant Thing 1\")"
   ]
  }
 ],
 "metadata": {
  "kernelspec": {
   "display_name": "py311_env",
   "language": "python",
   "name": "python3"
  },
  "language_info": {
   "codemirror_mode": {
    "name": "ipython",
    "version": 3
   },
   "file_extension": ".py",
   "mimetype": "text/x-python",
   "name": "python",
   "nbconvert_exporter": "python",
   "pygments_lexer": "ipython3",
   "version": "3.11.11"
  }
 },
 "nbformat": 4,
 "nbformat_minor": 5
}
